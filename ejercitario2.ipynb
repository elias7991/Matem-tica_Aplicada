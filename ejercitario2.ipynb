{
 "cells": [
  {
   "cell_type": "markdown",
   "metadata": {},
   "source": [
    "# __Ejercitario 2__: Números Difusos y su Aritmética\n",
    "\n",
    "Responde a las preguntas de abajo utilizando este mismo notebook. Recuerda de seguir las instrucciones de envío que están en la plataforma Educa."
   ]
  },
  {
   "cell_type": "markdown",
   "metadata": {},
   "source": [
    "---\n",
    "**Ejercicio 1.** Construye un número difuso L-R y dibuja la gráfica de su función de pertenencia. Luego demuestra que el número que construiste es un número L-R mostrando que cumple los cuatro requisitos de un número difuso L-R.\n",
    "\n",
    "**Obs.:** El número difuso L-R que construyas debe de ser un ejemplo diferente a los ejemplos en el libro de referencia del curso."
   ]
  },
  {
   "cell_type": "markdown",
   "metadata": {},
   "source": [
    "El número difuso construido es:\n",
    "\n",
    "$\n",
    "     \\mu(x) = \\left \\{ \\begin{matrix} 2^{-(x)^{2}} & si \\; x<0,\\\\\n",
    "                                         \\\\\n",
    "                                         {\\frac{1}{1+(x)^2}} & si \\; x\\geq 0\\end{matrix}\\right. \n",
    "$\n",
    "\n",
    "La gráfica de pertenencia es:\n",
    "\n"
   ]
  },
  {
   "cell_type": "code",
   "execution_count": 12,
   "metadata": {
    "scrolled": true
   },
   "outputs": [
    {
     "data": {
      "image/png": "[encoded data removed]",
      "text/plain": [
       "<Figure size 432x288 with 1 Axes>"
      ]
     },
     "metadata": {
      "needs_background": "light"
     },
     "output_type": "display_data"
    }
   ],
   "source": [
    "import pylab as pl\n",
    "import numpy as np\n",
    "\n",
    "\n",
    "X = np.linspace(-2, 0, 256, endpoint=True)\n",
    "Y = np.linspace(0, 2, 256, endpoint=True)\n",
    "\n",
    "C, S = 2**(-(X)**2), 1/(1+(Y)**2)\n",
    "\n",
    "pl.plot(X, C)\n",
    "pl.plot(Y, S)\n",
    "\n",
    "pl.show()"
   ]
  },
  {
   "cell_type": "markdown",
   "metadata": {},
   "source": [
    "Para ser un número difuso L-R deben cumplirse las siguientes condiciones $\\forall x\\in \\mathbb{R}:x\\geq0$:\n",
    "\n",
    "1.- $L(x)\\in[0,1] \\; \\land \\; R(x)\\in[0,1] \\; \\forall x$,\n",
    "\n",
    "2.- $L(0)=R(0)=1$,\n",
    "\n",
    "3.- $L(x)$ y $R(x)$ deben ser funciones pares,\n",
    "\n",
    "4.- $L(x)$ y $R(x)$ deben ser decrecientes en $[0,+\\infty)$\n",
    "\n",
    "### Anexo 1\n",
    "\n",
    "Debemos analizar si las funciones tienen rango $R=[0,1]$, para lo cual procedemos de la siguiente manera:\n",
    "\n",
    "Para  $2^{-(x)^{2}}$ mientras mayor sea $x$ menor será el valor de la función en sí, por lo tanto hallaremos a que valor converge cuando $x$ tiende a $+\\infty$\n",
    "\n",
    "$\n",
    "    \\displaystyle\\lim_{x \\to{+}\\infty}{2^{-(x)^{2}}} \\Longrightarrow \\displaystyle\\lim_{x \\to{+}\\infty}{2^{-(+\\infty)^{2}}}\n",
    "    \\Longrightarrow \\displaystyle\\lim_{x \\to{+}\\infty}{2^{-(\\infty)}} = 0\n",
    "$\n",
    "\n",
    "El límite inferior de valores que asume el rango de la función es 0.\n",
    "\n",
    "Obs.: El límite fue hallado por medio de la definición formal de $\\varepsilon$ y $\\delta$ pero para facilitar los cálculos en jupyter los hicimos de esta manera para hallar la convergencia.\n",
    "\n",
    "Para hallar el límite superior simplemente podemos reemplazar el menor valor del dominio de la función, es decir, el cero.\n",
    "\n",
    "$\n",
    "    si\\;x=0\\Longrightarrow 2^{-(x)^{2}} = 1 ...\\alpha\n",
    "$\n",
    "\n",
    "<center>\n",
    "    $\n",
    "        \\therefore El\\;rango\\;R=[0,1] \n",
    "    $\n",
    "</center>\n",
    "\n",
    "Teniendo en cuenta la función $\\frac{1}{1+(x)^2}$, es decir, una función polinomial donde el grado del numerador es cero y el del denominador es 2 y recordando que:\n",
    "\n",
    "$\n",
    "    \\displaystyle\\lim_{x\\to{+}\\infty}{\\frac{a_nx^n + a_{n-1}x^{n-1} + ... + a_0}{b_mx^m + b_{m-1}x^{m-1} + ... + b_0}} = \\left \\{ \\begin{matrix} \\frac{a_n}{b_m}, & si \\; m=n,\\\\\n",
    "                                         +\\infty, & si \\; n>m, \\\\\n",
    "                                         0, & si \\; n<m\\end{matrix}\\right. \n",
    "$\n",
    "\n",
    "El límite converge a 0.\n",
    "\n",
    "Ahora, reemplazando por el mínimo del dominio de la función tendríamos que:\n",
    "\n",
    "$\n",
    "    si\\;x=0\\Longrightarrow \\frac{1}{1+(x)^2} = 1 ...\\beta\n",
    "$\n",
    "\n",
    "<center>\n",
    "    $\n",
    "        \\therefore El\\;rango\\;R=[0,1] \n",
    "    $\n",
    "</center>\n",
    "\n",
    "Así, concluimos que se cumple el primer inciso con exactitud.\n",
    "\n",
    "### Anexo 2\n",
    "\n",
    "Teniendo en cuenta $\\alpha$ y $\\beta$ del anexo anterior tenemos que $L(0)=R(0)=1$\n",
    "\n",
    "### Anexo 3\n",
    "\n",
    "Para saber si las funciones son pares se debe dar que $f(-x) = f(x)$\n",
    "\n",
    "Tenemos que $f(x) = 2^{-(x)^{2}}$ y $f(-x) = 2^{-(-x)^{2}} = 2^{-(x)^{2}}$\n",
    "\n",
    "<center> \n",
    "    $\n",
    "        \\therefore Es \\; función \\; par.\n",
    "    $\n",
    "</center>\n",
    "\n",
    "Tenemos que $f(x) = \\frac{1}{1+(x)^2}$ y $f(-x) = \\frac{1}{1+(-x)^2} = \\frac{1}{1+(x)^2}$\n",
    "\n",
    "<center> \n",
    "    $\n",
    "        \\therefore Es \\; función \\; par.\n",
    "    $\n",
    "</center>\n",
    "\n",
    "### Anexo 4\n",
    "\n",
    "Para encontrar en qué intervalos son decrecientes podemos valernos del criterio de la primera derivada, cuando $f'(x) < 0$ es decreciente. \n",
    "\n",
    "$\n",
    "    f(x) = 2^{-x^2} \n",
    "$\n",
    "\n",
    "$\n",
    "    f'(x) = 2^{-x^2}(-x^2)'\\ln{2}\n",
    "$\n",
    "\n",
    "$\n",
    "    f'(x) = -2x.\\ln{2}.2^{-x^2}\n",
    "$\n",
    "\n",
    "$\n",
    "    f'(x) = -\\ln{2}.2^{-x^2 +1}.x\n",
    "$\n",
    "\n",
    "$\n",
    "    Si\\;f'(x) < 0 \\Longrightarrow -\\ln{2}.2^{-x^2 +1}.x < 0\n",
    "$\n",
    "\n",
    "Como el producto $\\ln{2}.2^{-x^2 +1}$ es siempre mayor que cero no influye en los calculos ya que el producto dependerá meramente del valor de $-x$ por lo que podemos reducir la expresión a:\n",
    "\n",
    "$\n",
    "    -x < 0\n",
    "$\n",
    "\n",
    "Multiplicando miembro a miembro por -1\n",
    "\n",
    "$\n",
    "    x > 0\n",
    "$\n",
    "\n",
    "<center>\n",
    "    $\n",
    "        \\therefore 2^{-x^2} es\\;decreciente\\;en\\;[0,+\\infty)\n",
    "    $\n",
    "</center>\n",
    "\n",
    "Para el caso de $\\frac{1}{1+x^2}$\n",
    "\n",
    "$f(x) = \\frac{1}{1+x^2}$\n",
    "\n",
    "$f'(x) = \\frac{(1)'.(1+x^2) - (1+x^2)'.1}{(1+x^2)^2}$\n",
    "\n",
    "$f'(x) = \\frac{-2x}{(1+x^2)^2}$\n",
    "\n",
    "$Si\\;f'(x)<0 \\Longrightarrow \\frac{-2x}{(1+x^2)^2}<0$\n",
    "\n",
    "Por lo tanto tendremos que podemos volver a obviar los términos que son meramente positivos y centrarnos en el resto\n",
    "\n",
    "$-x < 0$\n",
    "\n",
    "$x > 0$\n",
    "\n",
    "<center>\n",
    "    $\n",
    "        \\therefore \\frac{1}{1+x^2} es\\;decreciente\\;en\\;[0,+\\infty)\n",
    "    $\n",
    "</center>"
   ]
  },
  {
   "cell_type": "markdown",
   "metadata": {},
   "source": [
    "---\n",
    "**Ejercicio 2.** Considera el número difuso $A$ del Ejemplo 3.2.1 del libro de Syropoulos y Grammenos (2020) definido por su corte $\\alpha$ como ${}^\\alpha A=[3\\alpha,5-2\\alpha]$.\n",
    "1. Escribe formalmente el número difuso $A$.\n",
    "2. Dibuja el número difuso $A$.\n",
    "3. Calcula $A^2+2A$.\n",
    "4. Dibuja el número difuso $A^2+2A$."
   ]
  },
  {
   "cell_type": "markdown",
   "metadata": {},
   "source": []
  },
  {
   "cell_type": "markdown",
   "metadata": {},
   "source": [
    "---\n",
    "**Ejercicio 3.** Considera los número difusos $A=0.5/2+1/3+0.5/4$ y $B=1/1+0.3/4+0.3/5$. Calcula utilizando el principio de extensión:\n",
    "1. $A+B$.\n",
    "2. $A-B$.\n",
    "3. $A\\cdot B$."
   ]
  },
  {
   "cell_type": "markdown",
   "metadata": {},
   "source": []
  },
  {
   "cell_type": "markdown",
   "metadata": {},
   "source": [
    "---\n",
    "**Ejercicio 4.** Demuestra, utilizando la Definición 3.1.1 del libro de Syropoulos y Grammenos (2020), que todo número difuso es un conjunto difuso convexo."
   ]
  },
  {
   "cell_type": "markdown",
   "metadata": {},
   "source": []
  },
  {
   "cell_type": "markdown",
   "metadata": {},
   "source": [
    "---\n",
    "**Ejercicio 5.** Demuestra que cualquier número difuso trapezoidal es un conjunto difuso convexo.\n",
    "\n",
    "**Obs.:** Recuerda que un número difuso trapezoidal no es número difuso (no cumple la Definición 3.1.1), y por lo tanto, su convexidad no es una consecuencia del Ejercicio 4 de este ejercitario."
   ]
  },
  {
   "cell_type": "markdown",
   "metadata": {},
   "source": []
  },
  {
   "cell_type": "markdown",
   "metadata": {},
   "source": [
    "---\n",
    "**Ejercicio 6.** Demuestra que la multiplicación intervalar no es distributiva con respecto a la suma; de hecho es subdistributiva. Dado tres intervalos cualesquiera $[a,b]$, $[c,d]$ y $[e,f]$:\n",
    "1. Demuestra que $[a,b]\\cdot ([c,d]+[e,f]) \\subseteq [a,b]\\cdot [c,d]+[a,b]\\cdot [e,f]$.\n",
    "2. Demuestra a traves de un contraejemplo que $[a,b]\\cdot [c,d]+[a,b]\\cdot [e,f] \\nsubseteq [a,b]\\cdot ([c,d]+[e,f])$."
   ]
  },
  {
   "cell_type": "markdown",
   "metadata": {},
   "source": []
  }
 ],
 "metadata": {
  "kernelspec": {
   "display_name": "Python 3",
   "language": "python",
   "name": "python3"
  },
  "language_info": {
   "codemirror_mode": {
    "name": "ipython",
    "version": 3
   },
   "file_extension": ".py",
   "mimetype": "text/x-python",
   "name": "python",
   "nbconvert_exporter": "python",
   "pygments_lexer": "ipython3",
   "version": "3.8.5"
  }
 },
 "nbformat": 4,
 "nbformat_minor": 4
}
