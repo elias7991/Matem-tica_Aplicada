{
 "cells": [
  {
   "cell_type": "markdown",
   "metadata": {},
   "source": [
    "# __Ejercitario 2__: Números Difusos y su Aritmética\n",
    "\n",
    "Responde a las preguntas de abajo utilizando este mismo notebook. Recuerda de seguir las instrucciones de envío que están en la plataforma Educa."
   ]
  },
  {
   "cell_type": "markdown",
   "metadata": {},
   "source": [
    "---\n",
    "**Ejercicio 1.** Construye un número difuso L-R y dibuja la gráfica de su función de pertenencia. Luego demuestra que el número que construiste es un número L-R mostrando que cumple los cuatro requisitos de un número difuso L-R.\n",
    "\n",
    "**Obs.:** El número difuso L-R que construyas debe de ser un ejemplo diferente a los ejemplos en el libro de referencia del curso."
   ]
  },
  {
   "cell_type": "markdown",
   "metadata": {},
   "source": [
    "El número difuso construido es:\n",
    "\n",
    "$\n",
    "     \\mu(x) = \\left \\{ \\begin{matrix} 2^{-(x)^{2}} & si \\; x<0,\\\\\n",
    "                                         \\\\\n",
    "                                         {\\frac{1}{1+(x)^2}} & si \\; x\\geq 0\\end{matrix}\\right. \n",
    "$\n",
    "\n",
    "La gráfica de pertenencia es:\n",
    "\n"
   ]
  },
  {
   "cell_type": "code",
   "execution_count": 12,
   "metadata": {
    "scrolled": true
   },
   "outputs": [
    {
     "data": {
      "image/png": "[encoded data removed]",
      "text/plain": [
       "<Figure size 432x288 with 1 Axes>"
      ]
     },
     "metadata": {
      "needs_background": "light"
     },
     "output_type": "display_data"
    }
   ],
   "source": [
    "import pylab as pl\n",
    "import numpy as np\n",
    "\n",
    "\n",
    "X = np.linspace(-2, 0, 256, endpoint=True)\n",
    "Y = np.linspace(0, 2, 256, endpoint=True)\n",
    "\n",
    "C, S = 2**(-(X)**2), 1/(1+(Y)**2)\n",
    "\n",
    "pl.plot(X, C)\n",
    "pl.plot(Y, S)\n",
    "\n",
    "pl.show()"
   ]
  },
  {
   "cell_type": "markdown",
   "metadata": {},
   "source": [
    "Para ser un número difuso L-R deben cumplirse las siguientes condiciones $\\forall x\\in \\mathbb{R}:x\\geq0$:\n",
    "\n",
    "1.- $L(x)\\in[0,1] \\; \\land \\; R(x)\\in[0,1] \\; \\forall x$,\n",
    "\n",
    "2.- $L(0)=R(0)=1$,\n",
    "\n",
    "3.- $L(x)$ y $R(x)$ deben ser funciones pares,\n",
    "\n",
    "4.- $L(x)$ y $R(x)$ deben ser decrecientes en $[0,+\\infty)$\n",
    "\n",
    "### Anexo 1\n",
    "\n",
    "Debemos analizar si las funciones tienen rango $R=[0,1]$, para lo cual procedemos de la siguiente manera:\n",
    "\n",
    "Para  $2^{-(x)^{2}}$ mientras mayor sea $x$ menor será el valor de la función en sí, por lo tanto hallaremos a que valor converge cuando $x$ tiende a $+\\infty$\n",
    "\n",
    "$\n",
    "    \\displaystyle\\lim_{x \\to{+}\\infty}{2^{-(x)^{2}}} \\Longrightarrow \\displaystyle\\lim_{x \\to{+}\\infty}{2^{-(+\\infty)^{2}}}\n",
    "    \\Longrightarrow \\displaystyle\\lim_{x \\to{+}\\infty}{2^{-(\\infty)}} = 0\n",
    "$\n",
    "\n",
    "El límite inferior de valores que asume el rango de la función es 0.\n",
    "\n",
    "Obs.: El límite fue hallado por medio de la definición formal de $\\varepsilon$ y $\\delta$ pero para facilitar los cálculos en jupyter los hicimos de esta manera para hallar la convergencia.\n",
    "\n",
    "Para hallar el límite superior simplemente podemos reemplazar el menor valor del dominio de la función, es decir, el cero.\n",
    "\n",
    "$\n",
    "    si\\;x=0\\Longrightarrow 2^{-(x)^{2}} = 1 ...\\alpha\n",
    "$\n",
    "\n",
    "<center>\n",
    "    $\n",
    "        \\therefore El\\;rango\\;R=[0,1] \n",
    "    $\n",
    "</center>\n",
    "\n",
    "Teniendo en cuenta la función $\\frac{1}{1+(x)^2}$, es decir, una función polinomial donde el grado del numerador es cero y el del denominador es 2 y recordando que:\n",
    "\n",
    "$\n",
    "    \\displaystyle\\lim_{x\\to{+}\\infty}{\\frac{a_nx^n + a_{n-1}x^{n-1} + ... + a_0}{b_mx^m + b_{m-1}x^{m-1} + ... + b_0}} = \\left \\{ \\begin{matrix} \\frac{a_n}{b_m}, & si \\; m=n,\\\\\n",
    "                                         +\\infty, & si \\; n>m, \\\\\n",
    "                                         0, & si \\; n<m\\end{matrix}\\right. \n",
    "$\n",
    "\n",
    "El límite converge a 0.\n",
    "\n",
    "Ahora, reemplazando por el mínimo del dominio de la función tendríamos que:\n",
    "\n",
    "$\n",
    "    si\\;x=0\\Longrightarrow \\frac{1}{1+(x)^2} = 1 ...\\beta\n",
    "$\n",
    "\n",
    "<center>\n",
    "    $\n",
    "        \\therefore El\\;rango\\;R=[0,1] \n",
    "    $\n",
    "</center>\n",
    "\n",
    "Así, concluimos que se cumple el primer inciso con exactitud.\n",
    "\n",
    "### Anexo 2\n",
    "\n",
    "Teniendo en cuenta $\\alpha$ y $\\beta$ del anexo anterior tenemos que $L(0)=R(0)=1$\n",
    "\n",
    "### Anexo 3\n",
    "\n",
    "Para saber si las funciones son pares se debe dar que $f(-x) = f(x)$\n",
    "\n",
    "Tenemos que $f(x) = 2^{-(x)^{2}}$ y $f(-x) = 2^{-(-x)^{2}} = 2^{-(x)^{2}}$\n",
    "\n",
    "<center> \n",
    "    $\n",
    "        \\therefore Es \\; función \\; par.\n",
    "    $\n",
    "</center>\n",
    "\n",
    "Tenemos que $f(x) = \\frac{1}{1+(x)^2}$ y $f(-x) = \\frac{1}{1+(-x)^2} = \\frac{1}{1+(x)^2}$\n",
    "\n",
    "<center> \n",
    "    $\n",
    "        \\therefore Es \\; función \\; par.\n",
    "    $\n",
    "</center>\n",
    "\n",
    "### Anexo 4\n",
    "\n",
    "Para encontrar en qué intervalos son decrecientes podemos valernos del criterio de la primera derivada, cuando $f'(x) < 0$ es decreciente. \n",
    "\n",
    "$\n",
    "    f(x) = 2^{-x^2} \n",
    "$\n",
    "\n",
    "$\n",
    "    f'(x) = 2^{-x^2}(-x^2)'\\ln{2}\n",
    "$\n",
    "\n",
    "$\n",
    "    f'(x) = -2x.\\ln{2}.2^{-x^2}\n",
    "$\n",
    "\n",
    "$\n",
    "    f'(x) = -\\ln{2}.2^{-x^2 +1}.x\n",
    "$\n",
    "\n",
    "$\n",
    "    Si\\;f'(x) < 0 \\Longrightarrow -\\ln{2}.2^{-x^2 +1}.x < 0\n",
    "$\n",
    "\n",
    "Como el producto $\\ln{2}.2^{-x^2 +1}$ es siempre mayor que cero no influye en los calculos ya que el producto dependerá meramente del valor de $-x$ por lo que podemos reducir la expresión a:\n",
    "\n",
    "$\n",
    "    -x < 0\n",
    "$\n",
    "\n",
    "Multiplicando miembro a miembro por -1\n",
    "\n",
    "$\n",
    "    x > 0\n",
    "$\n",
    "\n",
    "<center>\n",
    "    $\n",
    "        \\therefore 2^{-x^2} es\\;decreciente\\;en\\;[0,+\\infty)\n",
    "    $\n",
    "</center>\n",
    "\n",
    "Para el caso de $\\frac{1}{1+x^2}$\n",
    "\n",
    "$f(x) = \\frac{1}{1+x^2}$\n",
    "\n",
    "$f'(x) = \\frac{(1)'.(1+x^2) - (1+x^2)'.1}{(1+x^2)^2}$\n",
    "\n",
    "$f'(x) = \\frac{-2x}{(1+x^2)^2}$\n",
    "\n",
    "$Si\\;f'(x)<0 \\Longrightarrow \\frac{-2x}{(1+x^2)^2}<0$\n",
    "\n",
    "Por lo tanto tendremos que podemos volver a obviar los términos que son meramente positivos y centrarnos en el resto\n",
    "\n",
    "$-x < 0$\n",
    "\n",
    "$x > 0$\n",
    "\n",
    "<center>\n",
    "    $\n",
    "        \\therefore \\frac{1}{1+x^2} es\\;decreciente\\;en\\;[0,+\\infty)\n",
    "    $\n",
    "</center>"
   ]
  },
  {
   "cell_type": "markdown",
   "metadata": {},
   "source": [
    "---\n",
    "**Ejercicio 2.** Considera el número difuso $A$ del Ejemplo 3.2.1 del libro de Syropoulos y Grammenos (2020) definido por su corte $\\alpha$ como ${}^\\alpha A=[3\\alpha,5-2\\alpha]$.\n",
    "1. Escribe formalmente el número difuso $A$.\n",
    "2. Dibuja el número difuso $A$.\n",
    "3. Calcula $A^2+2A$.\n",
    "4. Dibuja el número difuso $A^2+2A$."
   ]
  },
  {
   "cell_type": "markdown",
   "metadata": {},
   "source": [
    "### Anexo 1\n",
    "\n",
    "Teniendo en cuenta que $\\alpha$ son los valores de $y$ para cada trozo de la función, tenemos que:\n",
    "\n",
    "$x = 3y, \\hspace{1cm} x = 5-2y$\n",
    "\n",
    "Para encontrar dónde se encuentra el núcleo simplemente debemos intersectar los trozos:\n",
    "\n",
    "$3y = 5 - 2y$\n",
    "$5y = 5$\n",
    "$y = 1$\n",
    "\n",
    "Este valor corresponde al valor de membresía del núcleo del número difuso triangular, por lo tanto, para poder encontrar $\\bar{x}$ simplemente:\n",
    "\n",
    "Llevamos el valor de $y$ en cualquiera de las dos ecuaciones iniciales, por ejemplo, en la ecuación $x=3y$\n",
    "\n",
    "$x=3(1)$\n",
    "$x=3$\n",
    "\n",
    "Este valor corresponde a la media de la $\\bar{x} = 3$\n",
    "\n",
    "De la ecuación de pendiente positiva $x=3y$ podemos encontrar que $Si\\;y=0$(en este caso recta, que contiene a $|e_l-\\bar{x}|$ y $e_r-\\bar{x}$), $x = |e_l-\\bar{x}| = 0$\n",
    "\n",
    "De forma análoga, encontramos $|e_r-\\bar{x}|$ intersectando $x=5-2y$ con $y=0$ y se tiene que $|e_r-\\bar{x}|=5$\n",
    "\n",
    "Así, tenemos que:\n",
    "\n",
    "$\n",
    "    |e_l-3| = 0 \\Longrightarrow e_l = 3\n",
    "$\n",
    "\n",
    "$\n",
    "    |e_r-3| = 5 \\Longrightarrow e_r = 2\n",
    "$\n",
    "\n",
    "<center>\n",
    "    $\n",
    "        \\therefore tfn(\\bar{x},e_l,e_r) = (3,3,2)\n",
    "    $\n",
    "</center>"
   ]
  },
  {
   "cell_type": "markdown",
   "metadata": {},
   "source": [
    "### Anexo 2"
   ]
  },
  {
   "cell_type": "code",
   "execution_count": 7,
   "metadata": {
    "scrolled": true
   },
   "outputs": [
    {
     "data": {
      "image/png": "[encoded data removed]",
      "text/plain": [
       "<Figure size 432x288 with 1 Axes>"
      ]
     },
     "metadata": {
      "needs_background": "light"
     },
     "output_type": "display_data"
    }
   ],
   "source": [
    "import pylab as pl\n",
    "import numpy as np\n",
    "\n",
    "\n",
    "X = np.linspace(-4, 0, 256, endpoint=True)\n",
    "Y = np.linspace(0, 3, 256, endpoint=True)\n",
    "W = np.linspace(3, 5, 256, endpoint=True)\n",
    "Z = np.linspace(5, 9, 256, endpoint=True)\n",
    "\n",
    "A, B, C, D = 0*X, Y/3, (5-W)/2, 0*Z\n",
    "\n",
    "pl.plot(X, A)\n",
    "pl.plot(Y, B)\n",
    "pl.plot(W, C)\n",
    "pl.plot(Z, D)\n",
    "\n",
    "pl.show()"
   ]
  },
  {
   "cell_type": "markdown",
   "metadata": {},
   "source": [
    "### Anexo 3\n",
    "\n",
    "Como $A=(3,3,2)$, $2A = A + A$\n",
    "\n",
    "Recordando que la suma de numeros difusos triangulares se da sumando coordenada a coordenada tenemos que:\n",
    "\n",
    "$\n",
    "    2A = (3,3,2) + (3,3,2) = (6,6,4)\n",
    "$\n",
    "\n",
    "$\n",
    "    A^{2} = A*A = (3,3,2)*(3,3,2) = ((3*3),min(3*3, 3*2, 2*3, 2*2), max(3*3, 3*2, 2*3, 2*2)) = (9,4,9) \n",
    "$\n",
    "\n",
    "Así, entonces\n",
    "\n",
    "$\n",
    "    A^{2} + 2A = (9,4,9) + (6,6,4) = (15,10,13)\n",
    "$"
   ]
  },
  {
   "cell_type": "markdown",
   "metadata": {},
   "source": [
    "### Anexo 4"
   ]
  },
  {
   "cell_type": "code",
   "execution_count": 6,
   "metadata": {},
   "outputs": [
    {
     "data": {
      "image/png": "[encoded data removed]",
      "text/plain": [
       "<Figure size 432x288 with 1 Axes>"
      ]
     },
     "metadata": {
      "needs_background": "light"
     },
     "output_type": "display_data"
    }
   ],
   "source": [
    "import pylab as pl\n",
    "import numpy as np\n",
    "\n",
    "\n",
    "X = np.linspace(0, 5, 256, endpoint=True)\n",
    "Y = np.linspace(5, 15, 256, endpoint=True)\n",
    "W = np.linspace(15, 28, 256, endpoint=True)\n",
    "Z = np.linspace(28, 33, 256, endpoint=True)\n",
    "\n",
    "A, B, C, D = 0*X, (Y-5)/10, (28-W)/13, 0*Z\n",
    "\n",
    "pl.plot(X, A)\n",
    "pl.plot(Y, B)\n",
    "pl.plot(W, C)\n",
    "pl.plot(Z, D)\n",
    "\n",
    "pl.show()"
   ]
  },
  {
   "cell_type": "markdown",
   "metadata": {},
   "source": [
    "---\n",
    "**Ejercicio 3.** Considera los número difusos $A=0.5/2+1/3+0.5/4$ y $B=1/1+0.3/4+0.3/5$. Calcula utilizando el principio de extensión:\n",
    "1. $A+B$.\n",
    "2. $A-B$.\n",
    "3. $A\\cdot B$."
   ]
  },
  {
   "cell_type": "markdown",
   "metadata": {},
   "source": [
    "### Anexo 1\n",
    "\n",
    "Recordemos que:\n",
    "\n",
    "$(A+B)(z) = \\displaystyle \\bigvee_{z=x+y}{min[A(x),B(y)]}$\n",
    "\n",
    "Por ello, encontramos que $z$ puede asumir los valores :\n",
    "\n",
    "z = {3,4,5,6,7,8,9}\n",
    "\n",
    "Para $z=3,z=2+1,x=2,y=1$\n",
    "\n",
    "$(A+B)(3) = \\displaystyle \\bigvee_{z=2+1}{min[A(2),B(1)]} = \\displaystyle \\bigvee_{z=2+1}{min[0.5,1]} = 0.5$\n",
    "\n",
    "Para $z=4,z=3+1,x=3,y=1$\n",
    "\n",
    "$(A+B)(4) = \\displaystyle \\bigvee_{z=3+1}{min[A(3),B(1)]} = \\displaystyle \\bigvee_{z=3+1}{min[1,1]} = 1$\n",
    "\n",
    "Para $z=5,z=4+1,x=4,y=1$\n",
    "\n",
    "$(A+B)(5) = \\displaystyle \\bigvee_{z=4+1}{min[A(4),B(1)]} = \\displaystyle \\bigvee_{z=4+1}{min[0.5,1]} = 0.5$\n",
    "\n",
    "Para $z=6,z=2+4,x=2,y=4$\n",
    "\n",
    "$(A+B)(6) = \\displaystyle \\bigvee_{z=2+4}{min[A(2),B(4)]} = \\displaystyle \\bigvee_{z=2+4}{min[0.5,0.3]} = 0.3$\n",
    "\n",
    "Para $z=7,(z=2+5,x=2,y=5) \\; o \\; (z=3+4,x=3,y=4) $\n",
    "\n",
    "$(A+B)(7) = \\displaystyle \\bigvee_{z=7}{ \\{ min[A(2),B(5)], min[A(3),B(4)] \\} } = \\displaystyle \\bigvee_{z=7}{\\{ min[0.5,0.3], min[1,0.3] \\}} = 0.3$\n",
    "\n",
    "Para $z=8,(z=3+5,x=3,y=5) \\; o \\; (z=4+4,x=4,y=4) $\n",
    "\n",
    "$(A+B)(8) = \\displaystyle \\bigvee_{z=8}{ \\{ min[A(3),B(5)], min[A(4),B(4)] \\} } = \\displaystyle \\bigvee_{z=8}{\\{ min[1,0.3], min[0.5,0.3] \\}} = 0.3$\n",
    "\n",
    "Para $z=9,z=4+5,x=4,y=5$\n",
    "\n",
    "$(A+B)(9) = \\displaystyle \\bigvee_{z=4+5}{min[A(4),B(5)]} = \\displaystyle \\bigvee_{z=4+5}{min[0.5,0.3]} = 0.3$\n",
    "\n",
    "<center>\n",
    "    $\n",
    "        \\therefore A+B= \\displaystyle \\frac{0.5}{3} + \\frac{1}{4} + \\frac{0.5}{5} + \\frac{0.3}{6} + \\frac{0.3}{7} + \\frac{0.3}{8} + \\frac{0.3}{9}\n",
    "    $ \n",
    "</center>"
   ]
  },
  {
   "cell_type": "markdown",
   "metadata": {},
   "source": [
    "### Anexo 2\n",
    "\n",
    "Recordemos que:\n",
    "\n",
    "$(A-B)(z) = \\displaystyle \\bigvee_{z=x-y}{min[A(x),B(y)]}$\n",
    "\n",
    "Por ello, encontramos que $z$ puede asumir los valores :\n",
    "\n",
    "z = {-3,-2,-1,0,1,2,3}\n",
    "\n",
    "Para $z=-3,z=2-5,x=2,y=5$\n",
    "\n",
    "$(A-B)(-3) = \\displaystyle \\bigvee_{z=2-5}{min[A(2),B(5)]} = \\displaystyle \\bigvee_{z=2-5}{min[0.5,0.3]} = 0.3$\n",
    "\n",
    "Para $z=1,z=2-1,x=2,y=1$\n",
    "\n",
    "$(A-B)(1) = \\displaystyle \\bigvee_{z=2-1}{min[A(2),B(1)]} = \\displaystyle \\bigvee_{z=2-1}{min[0.5,1]} = 0.5$\n",
    "\n",
    "Para $z=0,z=4-4,x=4,y=4$\n",
    "\n",
    "$(A-B)(0) = \\displaystyle \\bigvee_{z=4-4}{min[A(4),B(4)]} = \\displaystyle \\bigvee_{z=4-4}{min[0.5,0.3]} = 0.3$\n",
    "\n",
    "Para $z=2,z=3-1,x=3,y=1$\n",
    "\n",
    "$(A-B)(2) = \\displaystyle \\bigvee_{z=3-1}{min[A(3),B(1)]} = \\displaystyle \\bigvee_{z=3-1}{min[1,1]} = 1$\n",
    "\n",
    "Para $z=3,(z=4-1,x=4,y=1)$\n",
    "\n",
    "$(A-B)(3) = \\displaystyle \\bigvee_{z=4-1}{min[A(4),B(1)]} = \\displaystyle \\bigvee_{z=4-1}{min[0.5,1]} = 0.5$\n",
    "\n",
    "Para $z=-2,(z=3-5,x=3,y=5) \\; o \\; (z=2-4,x=2,y=4) $\n",
    "\n",
    "$(A-B)(-2) = \\displaystyle \\bigvee_{z=-2}{ \\{ min[A(3),B(5)], min[A(2),B(4)] \\} } = \\displaystyle \\bigvee_{z=-2}{\\{ min[1,0.3], min[0.5,0.3] \\}} = 0.3$\n",
    "\n",
    "Para $z=-1,(z=3-4,x=3,y=4) \\; o \\; (z=4-5,x=4,y=5) $\n",
    "\n",
    "$(A-B)(-1) = \\displaystyle \\bigvee_{z=-1}{ \\{ min[A(3),B(4)], min[A(4),B(5)] \\} } = \\displaystyle \\bigvee_{z=-1}{\\{ min[1,0.3], min[0.5,0.3] \\}} = 0.3$\n",
    "\n",
    "$\n",
    "    \\\\\n",
    "$\n",
    "\n",
    "<center>\n",
    "    $\n",
    "        \\therefore A-B= \\displaystyle \\frac{0.3}{-3} + \\frac{0.3}{-2} + \\frac{0.3}{-1} + \\frac{0.3}{0} + \\frac{0.5}{1} + \\frac{1}{2} + \\frac{0.5}{3}\n",
    "    $ \n",
    "</center>"
   ]
  },
  {
   "cell_type": "markdown",
   "metadata": {},
   "source": [
    "### Anexo 3\n",
    "\n",
    "Recordemos que:\n",
    "\n",
    "$(A*B)(z) = \\displaystyle \\bigvee_{z=x*y}{min[A(x),B(y)]}$\n",
    "\n",
    "Por ello, encontramos que $z$ puede asumir los valores :\n",
    "\n",
    "z = {2,3,4,8,10,12,15,16,20}\n",
    "\n",
    "Para $z=2,z=2*1,x=2,y=1$\n",
    "\n",
    "$(A*B)(2) = \\displaystyle \\bigvee_{z=2*1}{min[A(2),B(1)]} = \\displaystyle \\bigvee_{z=2*1}{min[0.5,1]} = 0.5$\n",
    "\n",
    "Para $z=3,z=3*1,x=3,y=1$\n",
    "\n",
    "$(A*B)(3) = \\displaystyle \\bigvee_{z=3*1}{min[A(3),B(1)]} = \\displaystyle \\bigvee_{z=3*1}{min[1,1]} = 1$\n",
    "\n",
    "Para $z=4,z=4*1,x=4,y=1$\n",
    "\n",
    "$(A*B)(4) = \\displaystyle \\bigvee_{z=4*1}{min[A(4),B(1)]} = \\displaystyle \\bigvee_{z=4*1}{min[0.5,1]} = 0.5$\n",
    "\n",
    "Para $z=8,z=2*4,x=2,y=4$\n",
    "\n",
    "$(A*B)(8) = \\displaystyle \\bigvee_{z=2*4}{min[A(2),B(4)]} = \\displaystyle \\bigvee_{z=2*4}{min[0.5,0.3]} = 0.3$\n",
    "\n",
    "Para $z=10,z=2*5,x=2,y=5$\n",
    "\n",
    "$(A*B)(10) = \\displaystyle \\bigvee_{z=2*5}{min[A(2),B(5)]} = \\displaystyle \\bigvee_{z=2*5}{min[0.5,0.3]} = 0.3$\n",
    "\n",
    "Para $z=12,z=3*4,x=3,y=4$\n",
    "\n",
    "$(A*B)(12) = \\displaystyle \\bigvee_{z=3*4}{min[A(3),B(4)]} = \\displaystyle \\bigvee_{z=3*4}{min[1,0.3]} = 0.3$\n",
    "\n",
    "Para $z=15,z=3*5,x=3,y=5$\n",
    "\n",
    "$(A*B)(15) = \\displaystyle \\bigvee_{z=3*5}{min[A(3),B(5)]} = \\displaystyle \\bigvee_{z=3*5}{min[1,0.3]} = 0.3$\n",
    "\n",
    "Para $z=16,z=4*4,x=4,y=4$\n",
    "\n",
    "$(A*B)(16) = \\displaystyle \\bigvee_{z=4*4}{min[A(4),B(4)]} = \\displaystyle \\bigvee_{z=4*4}{min[0.5,0.3]} = 0.3$\n",
    "\n",
    "Para $z=20,z=4*5,x=4,y=5$\n",
    "\n",
    "$(A*B)(20) = \\displaystyle \\bigvee_{z=4*5}{min[A(4),B(5)]} = \\displaystyle \\bigvee_{z=4*5}{min[0.5,0.3]} = 0.3$\n",
    "\n",
    "$\n",
    "    \\\\\n",
    "$\n",
    "\n",
    "<center>\n",
    "    $\n",
    "        \\therefore A*B= \\displaystyle \\frac{0.5}{2} + \\frac{1}{3} + \\frac{0.5}{4} + \\frac{0.3}{8} + \\frac{0.3}{10} + \\frac{0.3}{12} + \\frac{0.3}{15} + \\frac{0.3}{16} + \\frac{0.3}{20}\n",
    "    $ \n",
    "</center>"
   ]
  },
  {
   "cell_type": "markdown",
   "metadata": {},
   "source": [
    "---\n",
    "**Ejercicio 4.** Demuestra, utilizando la Definición 3.1.1 del libro de Syropoulos y Grammenos (2020), que todo número difuso es un conjunto difuso convexo."
   ]
  },
  {
   "cell_type": "markdown",
   "metadata": {},
   "source": []
  },
  {
   "cell_type": "markdown",
   "metadata": {},
   "source": [
    "---\n",
    "**Ejercicio 5.** Demuestra que cualquier número difuso trapezoidal es un conjunto difuso convexo.\n",
    "\n",
    "**Obs.:** Recuerda que un número difuso trapezoidal no es número difuso (no cumple la Definición 3.1.1), y por lo tanto, su convexidad no es una consecuencia del Ejercicio 4 de este ejercitario."
   ]
  },
  {
   "cell_type": "markdown",
   "metadata": {},
   "source": []
  },
  {
   "cell_type": "markdown",
   "metadata": {},
   "source": [
    "---\n",
    "**Ejercicio 6.** Demuestra que la multiplicación intervalar no es distributiva con respecto a la suma; de hecho es subdistributiva. Dado tres intervalos cualesquiera $[a,b]$, $[c,d]$ y $[e,f]$:\n",
    "1. Demuestra que $[a,b]\\cdot ([c,d]+[e,f]) \\subseteq [a,b]\\cdot [c,d]+[a,b]\\cdot [e,f]$.\n",
    "2. Demuestra a traves de un contraejemplo que $[a,b]\\cdot [c,d]+[a,b]\\cdot [e,f] \\nsubseteq [a,b]\\cdot ([c,d]+[e,f])$."
   ]
  },
  {
   "cell_type": "markdown",
   "metadata": {},
   "source": []
  }
 ],
 "metadata": {
  "kernelspec": {
   "display_name": "Python 3",
   "language": "python",
   "name": "python3"
  },
  "language_info": {
   "codemirror_mode": {
    "name": "ipython",
    "version": 3
   },
   "file_extension": ".py",
   "mimetype": "text/x-python",
   "name": "python",
   "nbconvert_exporter": "python",
   "pygments_lexer": "ipython3",
   "version": "3.8.5"
  }
 },
 "nbformat": 4,
 "nbformat_minor": 4
}
