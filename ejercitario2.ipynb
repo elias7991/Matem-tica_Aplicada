{
 "cells": [
  {
   "cell_type": "markdown",
   "metadata": {},
   "source": [
    "# __Ejercitario 2__: Números Difusos y su Aritmética\n",
    "\n",
    "Responde a las preguntas de abajo utilizando este mismo notebook. Recuerda de seguir las instrucciones de envío que están en la plataforma Educa."
   ]
  },
  {
   "cell_type": "markdown",
   "metadata": {},
   "source": [
    "---\n",
    "**Ejercicio 1.** Construye un número difuso L-R y dibuja la gráfica de su función de pertenencia. Luego demuestra que el número que construiste es un número L-R mostrando que cumple los cuatro requisitos de un número difuso L-R.\n",
    "\n",
    "**Obs.:** El número difuso L-R que construyas debe de ser un ejemplo diferente a los ejemplos en el libro de referencia del curso."
   ]
  },
  {
   "cell_type": "markdown",
   "metadata": {},
   "source": [
    "El número difuso construido es:\n",
    "\n",
    "$\n",
    "     \\mu(x) = \\left \\{ \\begin{matrix} 2^{-(x)^{2}} & si \\; x<0,\\\\\n",
    "                                         \\\\\n",
    "                                         {\\frac{1}{1+(x)^2}} & si \\; x\\geq 0\\end{matrix}\\right. \n",
    "$\n",
    "\n",
    "La gráfica de pertenencia es:\n",
    "\n"
   ]
  },
  {
   "cell_type": "code",
   "execution_count": 12,
   "metadata": {
    "scrolled": true
   },
   "outputs": [
    {
     "data": {
      "image/png": "[encoded data removed]",
      "text/plain": [
       "<Figure size 432x288 with 1 Axes>"
      ]
     },
     "metadata": {
      "needs_background": "light"
     },
     "output_type": "display_data"
    }
   ],
   "source": [
    "import pylab as pl\n",
    "import numpy as np\n",
    "\n",
    "\n",
    "X = np.linspace(-2, 0, 256, endpoint=True)\n",
    "Y = np.linspace(0, 2, 256, endpoint=True)\n",
    "\n",
    "C, S = 2**(-(X)**2), 1/(1+(Y)**2)\n",
    "\n",
    "pl.plot(X, C)\n",
    "pl.plot(Y, S)\n",
    "\n",
    "pl.show()"
   ]
  },
  {
   "cell_type": "markdown",
   "metadata": {},
   "source": [
    "Para ser un número difuso L-R deben cumplirse las siguientes condiciones $\\forall x\\in \\mathbb{R}:x\\geq0$:\n",
    "\n",
    "1.- $L(x)\\in[0,1] \\; \\land \\; R(x)\\in[0,1] \\; \\forall x$,\n",
    "\n",
    "2.- $L(0)=R(0)=1$,\n",
    "\n",
    "3.- $L(x)$ y $R(x)$ deben ser funciones pares,\n",
    "\n",
    "4.- $L(x)$ y $R(x)$ deben ser decrecientes en $[0,+\\infty)$\n",
    "\n",
    "### Anexo 1\n",
    "\n",
    "Debemos analizar si las funciones tienen rango $R=[0,1]$, para lo cual procedemos de la siguiente manera:\n",
    "\n",
    "Para  $2^{-(x)^{2}}$ mientras mayor sea $x$ menor será el valor de la función en sí, por lo tanto hallaremos a que valor converge cuando $x$ tiende a $+\\infty$\n",
    "\n",
    "$\n",
    "    \\displaystyle\\lim_{x \\to{+}\\infty}{2^{-(x)^{2}}} \\Longrightarrow \\displaystyle\\lim_{x \\to{+}\\infty}{2^{-(+\\infty)^{2}}}\n",
    "    \\Longrightarrow \\displaystyle\\lim_{x \\to{+}\\infty}{2^{-(\\infty)}} = 0\n",
    "$\n",
    "\n",
    "El límite inferior de valores que asume el rango de la función es 0.\n",
    "\n",
    "Obs.: El límite fue hallado por medio de la definición formal de $\\varepsilon$ y $\\delta$ pero para facilitar los cálculos en jupyter los hicimos de esta manera para hallar la convergencia.\n",
    "\n",
    "Para hallar el límite superior simplemente podemos reemplazar el menor valor del dominio de la función, es decir, el cero.\n",
    "\n",
    "$\n",
    "    si\\;x=0\\Longrightarrow 2^{-(x)^{2}} = 1 ...\\alpha\n",
    "$\n",
    "\n",
    "<center>\n",
    "    $\n",
    "        \\therefore El\\;rango\\;R=[0,1] \n",
    "    $\n",
    "</center>\n",
    "\n",
    "Teniendo en cuenta la función $\\frac{1}{1+(x)^2}$, es decir, una función polinomial donde el grado del numerador es cero y el del denominador es 2 y recordando que:\n",
    "\n",
    "$\n",
    "    \\displaystyle\\lim_{x\\to{+}\\infty}{\\frac{a_nx^n + a_{n-1}x^{n-1} + ... + a_0}{b_mx^m + b_{m-1}x^{m-1} + ... + b_0}} = \\left \\{ \\begin{matrix} \\frac{a_n}{b_m}, & si \\; m=n,\\\\\n",
    "                                         +\\infty, & si \\; n>m, \\\\\n",
    "                                         0, & si \\; n<m\\end{matrix}\\right. \n",
    "$\n",
    "\n",
    "El límite converge a 0.\n",
    "\n",
    "Ahora, reemplazando por el mínimo del dominio de la función tendríamos que:\n",
    "\n",
    "$\n",
    "    si\\;x=0\\Longrightarrow \\frac{1}{1+(x)^2} = 1 ...\\beta\n",
    "$\n",
    "\n",
    "<center>\n",
    "    $\n",
    "        \\therefore El\\;rango\\;R=[0,1] \n",
    "    $\n",
    "</center>\n",
    "\n",
    "Así, concluimos que se cumple el primer inciso con exactitud.\n",
    "\n",
    "### Anexo 2\n",
    "\n",
    "Teniendo en cuenta $\\alpha$ y $\\beta$ del anexo anterior tenemos que $L(0)=R(0)=1$\n",
    "\n",
    "### Anexo 3\n",
    "\n",
    "Para saber si las funciones son pares se debe dar que $f(-x) = f(x)$\n",
    "\n",
    "Tenemos que $f(x) = 2^{-(x)^{2}}$ y $f(-x) = 2^{-(-x)^{2}} = 2^{-(x)^{2}}$\n",
    "\n",
    "<center> \n",
    "    $\n",
    "        \\therefore Es \\; función \\; par.\n",
    "    $\n",
    "</center>\n",
    "\n",
    "Tenemos que $f(x) = \\frac{1}{1+(x)^2}$ y $f(-x) = \\frac{1}{1+(-x)^2} = \\frac{1}{1+(x)^2}$\n",
    "\n",
    "<center> \n",
    "    $\n",
    "        \\therefore Es \\; función \\; par.\n",
    "    $\n",
    "</center>\n",
    "\n",
    "### Anexo 4\n",
    "\n",
    "Para encontrar en qué intervalos son decrecientes podemos valernos del criterio de la primera derivada, cuando $f'(x) < 0$ es decreciente. \n",
    "\n",
    "$\n",
    "    f(x) = 2^{-x^2} \n",
    "$\n",
    "\n",
    "$\n",
    "    f'(x) = 2^{-x^2}(-x^2)'\\ln{2}\n",
    "$\n",
    "\n",
    "$\n",
    "    f'(x) = -2x.\\ln{2}.2^{-x^2}\n",
    "$\n",
    "\n",
    "$\n",
    "    f'(x) = -\\ln{2}.2^{-x^2 +1}.x\n",
    "$\n",
    "\n",
    "$\n",
    "    Si\\;f'(x) < 0 \\Longrightarrow -\\ln{2}.2^{-x^2 +1}.x < 0\n",
    "$\n",
    "\n",
    "Como el producto $\\ln{2}.2^{-x^2 +1}$ es siempre mayor que cero no influye en los calculos ya que el producto dependerá meramente del valor de $-x$ por lo que podemos reducir la expresión a:\n",
    "\n",
    "$\n",
    "    -x < 0\n",
    "$\n",
    "\n",
    "Multiplicando miembro a miembro por -1\n",
    "\n",
    "$\n",
    "    x > 0\n",
    "$\n",
    "\n",
    "<center>\n",
    "    $\n",
    "        \\therefore 2^{-x^2} es\\;decreciente\\;en\\;[0,+\\infty)\n",
    "    $\n",
    "</center>\n",
    "\n",
    "Para el caso de $\\frac{1}{1+x^2}$\n",
    "\n",
    "$f(x) = \\frac{1}{1+x^2}$\n",
    "\n",
    "$f'(x) = \\frac{(1)'.(1+x^2) - (1+x^2)'.1}{(1+x^2)^2}$\n",
    "\n",
    "$f'(x) = \\frac{-2x}{(1+x^2)^2}$\n",
    "\n",
    "$Si\\;f'(x)<0 \\Longrightarrow \\frac{-2x}{(1+x^2)^2}<0$\n",
    "\n",
    "Por lo tanto tendremos que podemos volver a obviar los términos que son meramente positivos y centrarnos en el resto\n",
    "\n",
    "$-x < 0$\n",
    "\n",
    "$x > 0$\n",
    "\n",
    "<center>\n",
    "    $\n",
    "        \\therefore \\frac{1}{1+x^2} es\\;decreciente\\;en\\;[0,+\\infty)\n",
    "    $\n",
    "</center>"
   ]
  },
  {
   "cell_type": "markdown",
   "metadata": {},
   "source": [
    "---\n",
    "**Ejercicio 2.** Considera el número difuso $A$ del Ejemplo 3.2.1 del libro de Syropoulos y Grammenos (2020) definido por su corte $\\alpha$ como ${}^\\alpha A=[3\\alpha,5-2\\alpha]$.\n",
    "1. Escribe formalmente el número difuso $A$.\n",
    "2. Dibuja el número difuso $A$.\n",
    "3. Calcula $A^2+2A$.\n",
    "4. Dibuja el número difuso $A^2+2A$."
   ]
  },
  {
   "cell_type": "markdown",
   "metadata": {},
   "source": [
    "### Anexo 1\n",
    "\n",
    "Teniendo en cuenta que $\\alpha$ son los valores de $y$ para cada trozo de la función, tenemos que:\n",
    "\n",
    "$x = 3y, \\hspace{1cm} x = 5-2y$\n",
    "\n",
    "Para encontrar dónde se encuentra el núcleo simplemente debemos intersectar los trozos:\n",
    "\n",
    "$3y = 5 - 2y$\n",
    "$5y = 5$\n",
    "$y = 1$\n",
    "\n",
    "Este valor corresponde al valor de membresía del núcleo del número difuso triangular, por lo tanto, para poder encontrar $\\bar{x}$ simplemente:\n",
    "\n",
    "Llevamos el valor de $y$ en cualquiera de las dos ecuaciones iniciales, por ejemplo, en la ecuación $x=3y$\n",
    "\n",
    "$x=3(1)$\n",
    "$x=3$\n",
    "\n",
    "Este valor corresponde a la media de la $\\bar{x} = 3$\n",
    "\n",
    "De la ecuación de pendiente positiva $x=3y$ podemos encontrar que $Si\\;y=0$(en este caso recta, que contiene a $|e_l-\\bar{x}|$ y $e_r-\\bar{x}$), $x = |e_l-\\bar{x}| = 0$\n",
    "\n",
    "De forma análoga, encontramos $|e_r-\\bar{x}|$ intersectando $x=5-2y$ con $y=0$ y se tiene que $|e_r-\\bar{x}|=5$\n",
    "\n",
    "Así, tenemos que:\n",
    "\n",
    "$\n",
    "    |e_l-3| = 0 \\Longrightarrow e_l = 3\n",
    "$\n",
    "\n",
    "$\n",
    "    |e_r-3| = 5 \\Longrightarrow e_r = 2\n",
    "$\n",
    "\n",
    "<center>\n",
    "    $\n",
    "        \\therefore tfn(\\bar{x},e_l,e_r) = (3,3,2)\n",
    "    $\n",
    "</center>"
   ]
  },
  {
   "cell_type": "markdown",
   "metadata": {},
   "source": [
    "### Anexo 2"
   ]
  },
  {
   "cell_type": "code",
   "execution_count": 7,
   "metadata": {
    "scrolled": true
   },
   "outputs": [
    {
     "data": {
      "image/png": "[encoded data removed]",
      "text/plain": [
       "<Figure size 432x288 with 1 Axes>"
      ]
     },
     "metadata": {
      "needs_background": "light"
     },
     "output_type": "display_data"
    }
   ],
   "source": [
    "import pylab as pl\n",
    "import numpy as np\n",
    "\n",
    "\n",
    "X = np.linspace(-4, 0, 256, endpoint=True)\n",
    "Y = np.linspace(0, 3, 256, endpoint=True)\n",
    "W = np.linspace(3, 5, 256, endpoint=True)\n",
    "Z = np.linspace(5, 9, 256, endpoint=True)\n",
    "\n",
    "A, B, C, D = 0*X, Y/3, (5-W)/2, 0*Z\n",
    "\n",
    "pl.plot(X, A)\n",
    "pl.plot(Y, B)\n",
    "pl.plot(W, C)\n",
    "pl.plot(Z, D)\n",
    "\n",
    "pl.show()"
   ]
  },
  {
   "cell_type": "markdown",
   "metadata": {},
   "source": [
    "### Anexo 3\n",
    "\n",
    "Como $A=(3,3,2)$, $2A = A + A$\n",
    "\n",
    "Recordando que la suma de numeros difusos triangulares se da sumando coordenada a coordenada tenemos que:\n",
    "\n",
    "$\n",
    "    2A = (3,3,2) + (3,3,2) = (6,6,4)\n",
    "$\n",
    "\n",
    "$\n",
    "    A^{2} = A*A = (3,3,2)*(3,3,2) = ((3*3),min(3*3, 3*2, 2*3, 2*2), max(3*3, 3*2, 2*3, 2*2)) = (9,4,9) \n",
    "$\n",
    "\n",
    "Así, entonces\n",
    "\n",
    "$\n",
    "    A^{2} + 2A = (9,4,9) + (6,6,4) = (15,10,13)\n",
    "$"
   ]
  },
  {
   "cell_type": "markdown",
   "metadata": {},
   "source": [
    "### Anexo 4"
   ]
  },
  {
   "cell_type": "code",
   "execution_count": 6,
   "metadata": {},
   "outputs": [
    {
     "data": {
      "image/png": "[encoded data removed]",
      "text/plain": [
       "<Figure size 432x288 with 1 Axes>"
      ]
     },
     "metadata": {
      "needs_background": "light"
     },
     "output_type": "display_data"
    }
   ],
   "source": [
    "import pylab as pl\n",
    "import numpy as np\n",
    "\n",
    "\n",
    "X = np.linspace(0, 5, 256, endpoint=True)\n",
    "Y = np.linspace(5, 15, 256, endpoint=True)\n",
    "W = np.linspace(15, 28, 256, endpoint=True)\n",
    "Z = np.linspace(28, 33, 256, endpoint=True)\n",
    "\n",
    "A, B, C, D = 0*X, (Y-5)/10, (28-W)/13, 0*Z\n",
    "\n",
    "pl.plot(X, A)\n",
    "pl.plot(Y, B)\n",
    "pl.plot(W, C)\n",
    "pl.plot(Z, D)\n",
    "\n",
    "pl.show()"
   ]
  },
  {
   "cell_type": "markdown",
   "metadata": {},
   "source": [
    "---\n",
    "**Ejercicio 3.** Considera los número difusos $A=0.5/2+1/3+0.5/4$ y $B=1/1+0.3/4+0.3/5$. Calcula utilizando el principio de extensión:\n",
    "1. $A+B$.\n",
    "2. $A-B$.\n",
    "3. $A\\cdot B$."
   ]
  },
  {
   "cell_type": "markdown",
   "metadata": {},
   "source": [
    "### Anexo 1\n",
    "\n",
    "Recordemos que:\n",
    "\n",
    "$(A+B)(z) = \\displaystyle \\bigvee_{z=x+y}{min[A(x),B(y)]}$\n",
    "\n",
    "Por ello, encontramos que $z$ puede asumir los valores :\n",
    "\n",
    "z = {3,4,5,6,7,8,9}\n",
    "\n",
    "Para $z=3,z=2+1,x=2,y=1$\n",
    "\n",
    "$(A+B)(3) = \\displaystyle \\bigvee_{z=2+1}{min[A(2),B(1)]} = \\displaystyle \\bigvee_{z=2+1}{min[0.5,1]} = 0.5$\n",
    "\n",
    "Para $z=4,z=3+1,x=3,y=1$\n",
    "\n",
    "$(A+B)(4) = \\displaystyle \\bigvee_{z=3+1}{min[A(3),B(1)]} = \\displaystyle \\bigvee_{z=3+1}{min[1,1]} = 1$\n",
    "\n",
    "Para $z=5,z=4+1,x=4,y=1$\n",
    "\n",
    "$(A+B)(5) = \\displaystyle \\bigvee_{z=4+1}{min[A(4),B(1)]} = \\displaystyle \\bigvee_{z=4+1}{min[0.5,1]} = 0.5$\n",
    "\n",
    "Para $z=6,z=2+4,x=2,y=4$\n",
    "\n",
    "$(A+B)(6) = \\displaystyle \\bigvee_{z=2+4}{min[A(2),B(4)]} = \\displaystyle \\bigvee_{z=2+4}{min[0.5,0.3]} = 0.3$\n",
    "\n",
    "Para $z=7,(z=2+5,x=2,y=5) \\; o \\; (z=3+4,x=3,y=4) $\n",
    "\n",
    "$(A+B)(7) = \\displaystyle \\bigvee_{z=7}{ \\{ min[A(2),B(5)], min[A(3),B(4)] \\} } = \\displaystyle \\bigvee_{z=7}{\\{ min[0.5,0.3], min[1,0.3] \\}} = 0.3$\n",
    "\n",
    "Para $z=8,(z=3+5,x=3,y=5) \\; o \\; (z=4+4,x=4,y=4) $\n",
    "\n",
    "$(A+B)(8) = \\displaystyle \\bigvee_{z=8}{ \\{ min[A(3),B(5)], min[A(4),B(4)] \\} } = \\displaystyle \\bigvee_{z=8}{\\{ min[1,0.3], min[0.5,0.3] \\}} = 0.3$\n",
    "\n",
    "Para $z=9,z=4+5,x=4,y=5$\n",
    "\n",
    "$(A+B)(9) = \\displaystyle \\bigvee_{z=4+5}{min[A(4),B(5)]} = \\displaystyle \\bigvee_{z=4+5}{min[0.5,0.3]} = 0.3$\n",
    "\n",
    "<center>\n",
    "    $\n",
    "        \\therefore A+B= \\displaystyle \\frac{0.5}{3} + \\frac{1}{4} + \\frac{0.5}{5} + \\frac{0.3}{6} + \\frac{0.3}{7} + \\frac{0.3}{8} + \\frac{0.3}{9}\n",
    "    $ \n",
    "</center>"
   ]
  },
  {
   "cell_type": "markdown",
   "metadata": {},
   "source": [
    "### Anexo 2\n",
    "\n",
    "Recordemos que:\n",
    "\n",
    "$(A-B)(z) = \\displaystyle \\bigvee_{z=x-y}{min[A(x),B(y)]}$\n",
    "\n",
    "Por ello, encontramos que $z$ puede asumir los valores :\n",
    "\n",
    "z = {-3,-2,-1,0,1,2,3}\n",
    "\n",
    "Para $z=-3,z=2-5,x=2,y=5$\n",
    "\n",
    "$(A-B)(-3) = \\displaystyle \\bigvee_{z=2-5}{min[A(2),B(5)]} = \\displaystyle \\bigvee_{z=2-5}{min[0.5,0.3]} = 0.3$\n",
    "\n",
    "Para $z=1,z=2-1,x=2,y=1$\n",
    "\n",
    "$(A-B)(1) = \\displaystyle \\bigvee_{z=2-1}{min[A(2),B(1)]} = \\displaystyle \\bigvee_{z=2-1}{min[0.5,1]} = 0.5$\n",
    "\n",
    "Para $z=0,z=4-4,x=4,y=4$\n",
    "\n",
    "$(A-B)(0) = \\displaystyle \\bigvee_{z=4-4}{min[A(4),B(4)]} = \\displaystyle \\bigvee_{z=4-4}{min[0.5,0.3]} = 0.3$\n",
    "\n",
    "Para $z=2,z=3-1,x=3,y=1$\n",
    "\n",
    "$(A-B)(2) = \\displaystyle \\bigvee_{z=3-1}{min[A(3),B(1)]} = \\displaystyle \\bigvee_{z=3-1}{min[1,1]} = 1$\n",
    "\n",
    "Para $z=3,(z=4-1,x=4,y=1)$\n",
    "\n",
    "$(A-B)(3) = \\displaystyle \\bigvee_{z=4-1}{min[A(4),B(1)]} = \\displaystyle \\bigvee_{z=4-1}{min[0.5,1]} = 0.5$\n",
    "\n",
    "Para $z=-2,(z=3-5,x=3,y=5) \\; o \\; (z=2-4,x=2,y=4) $\n",
    "\n",
    "$(A-B)(-2) = \\displaystyle \\bigvee_{z=-2}{ \\{ min[A(3),B(5)], min[A(2),B(4)] \\} } = \\displaystyle \\bigvee_{z=-2}{\\{ min[1,0.3], min[0.5,0.3] \\}} = 0.3$\n",
    "\n",
    "Para $z=-1,(z=3-4,x=3,y=4) \\; o \\; (z=4-5,x=4,y=5) $\n",
    "\n",
    "$(A-B)(-1) = \\displaystyle \\bigvee_{z=-1}{ \\{ min[A(3),B(4)], min[A(4),B(5)] \\} } = \\displaystyle \\bigvee_{z=-1}{\\{ min[1,0.3], min[0.5,0.3] \\}} = 0.3$\n",
    "\n",
    "$\n",
    "    \\\\\n",
    "$\n",
    "\n",
    "<center>\n",
    "    $\n",
    "        \\therefore A-B= \\displaystyle \\frac{0.3}{-3} + \\frac{0.3}{-2} + \\frac{0.3}{-1} + \\frac{0.3}{0} + \\frac{0.5}{1} + \\frac{1}{2} + \\frac{0.5}{3}\n",
    "    $ \n",
    "</center>"
   ]
  },
  {
   "cell_type": "markdown",
   "metadata": {},
   "source": [
    "### Anexo 3\n",
    "\n",
    "Recordemos que:\n",
    "\n",
    "$(A*B)(z) = \\displaystyle \\bigvee_{z=x*y}{min[A(x),B(y)]}$\n",
    "\n",
    "Por ello, encontramos que $z$ puede asumir los valores :\n",
    "\n",
    "z = {2,3,4,8,10,12,15,16,20}\n",
    "\n",
    "Para $z=2,z=2*1,x=2,y=1$\n",
    "\n",
    "$(A*B)(2) = \\displaystyle \\bigvee_{z=2*1}{min[A(2),B(1)]} = \\displaystyle \\bigvee_{z=2*1}{min[0.5,1]} = 0.5$\n",
    "\n",
    "Para $z=3,z=3*1,x=3,y=1$\n",
    "\n",
    "$(A*B)(3) = \\displaystyle \\bigvee_{z=3*1}{min[A(3),B(1)]} = \\displaystyle \\bigvee_{z=3*1}{min[1,1]} = 1$\n",
    "\n",
    "Para $z=4,z=4*1,x=4,y=1$\n",
    "\n",
    "$(A*B)(4) = \\displaystyle \\bigvee_{z=4*1}{min[A(4),B(1)]} = \\displaystyle \\bigvee_{z=4*1}{min[0.5,1]} = 0.5$\n",
    "\n",
    "Para $z=8,z=2*4,x=2,y=4$\n",
    "\n",
    "$(A*B)(8) = \\displaystyle \\bigvee_{z=2*4}{min[A(2),B(4)]} = \\displaystyle \\bigvee_{z=2*4}{min[0.5,0.3]} = 0.3$\n",
    "\n",
    "Para $z=10,z=2*5,x=2,y=5$\n",
    "\n",
    "$(A*B)(10) = \\displaystyle \\bigvee_{z=2*5}{min[A(2),B(5)]} = \\displaystyle \\bigvee_{z=2*5}{min[0.5,0.3]} = 0.3$\n",
    "\n",
    "Para $z=12,z=3*4,x=3,y=4$\n",
    "\n",
    "$(A*B)(12) = \\displaystyle \\bigvee_{z=3*4}{min[A(3),B(4)]} = \\displaystyle \\bigvee_{z=3*4}{min[1,0.3]} = 0.3$\n",
    "\n",
    "Para $z=15,z=3*5,x=3,y=5$\n",
    "\n",
    "$(A*B)(15) = \\displaystyle \\bigvee_{z=3*5}{min[A(3),B(5)]} = \\displaystyle \\bigvee_{z=3*5}{min[1,0.3]} = 0.3$\n",
    "\n",
    "Para $z=16,z=4*4,x=4,y=4$\n",
    "\n",
    "$(A*B)(16) = \\displaystyle \\bigvee_{z=4*4}{min[A(4),B(4)]} = \\displaystyle \\bigvee_{z=4*4}{min[0.5,0.3]} = 0.3$\n",
    "\n",
    "Para $z=20,z=4*5,x=4,y=5$\n",
    "\n",
    "$(A*B)(20) = \\displaystyle \\bigvee_{z=4*5}{min[A(4),B(5)]} = \\displaystyle \\bigvee_{z=4*5}{min[0.5,0.3]} = 0.3$\n",
    "\n",
    "$\n",
    "    \\\\\n",
    "$\n",
    "\n",
    "<center>\n",
    "    $\n",
    "        \\therefore A*B= \\displaystyle \\frac{0.5}{2} + \\frac{1}{3} + \\frac{0.5}{4} + \\frac{0.3}{8} + \\frac{0.3}{10} + \\frac{0.3}{12} + \\frac{0.3}{15} + \\frac{0.3}{16} + \\frac{0.3}{20}\n",
    "    $ \n",
    "</center>"
   ]
  },
  {
   "cell_type": "markdown",
   "metadata": {},
   "source": [
    "---\n",
    "**Ejercicio 4.** Demuestra, utilizando la Definición 3.1.1 del libro de Syropoulos y Grammenos (2020), que todo número difuso es un conjunto difuso convexo."
   ]
  },
  {
   "cell_type": "markdown",
   "metadata": {},
   "source": [
    "Definición 3.1.1\n",
    "\n",
    "1.-Todos los cortes $\\alpha$ no son vacíos en $0\\leq\\alpha\\leq1$.\n",
    "\n",
    "2.-Todos los cortes $\\alpha$ son intervalos cerrados en $\\mathbb R$.\n",
    "\n",
    "3.-El soporte está acotado.\n",
    "        \n",
    "Ya que todos los cortes $\\alpha$ de A existen y son inervalos cerrados eso nos asegura que podemos trazar rectas horizontales y encontrar que siempre divide al gráfico del número difuso en dos semiplanos. \n",
    "\n",
    "Iniciaremos la demostración por medio de la negación de esta premisa, los intervalos no son cerrados y por lo tanto tendriamos por ejemplo lo que pasa en el siguiente gráfico:"
   ]
  },
  {
   "cell_type": "code",
   "execution_count": 15,
   "metadata": {
    "scrolled": true
   },
   "outputs": [
    {
     "data": {
      "image/png": "[encoded data removed]",
      "text/plain": [
       "<Figure size 432x288 with 1 Axes>"
      ]
     },
     "metadata": {
      "needs_background": "light"
     },
     "output_type": "display_data"
    }
   ],
   "source": [
    "import matplotlib.pyplot as plt\n",
    "import numpy\n",
    "\n",
    "x=arange(0.0,3*pi,0.1)\n",
    "y=(1/2)*sin(3*x)+0.5\n",
    "\n",
    "P = [0.2,(1/2)*sin(3*0.2)+0.5]\n",
    "Q = [(0.2+2*pi),(1/2)*sin(3*(0.2+2*pi))+0.5]\n",
    "\n",
    "x_values = [P[0],Q[0]]\n",
    "y_values = [P[1],Q[1]]\n",
    "\n",
    "plt.plot(x_values,y_values)\n",
    "\n",
    "plt.plot(x,y)\n",
    "\n",
    "plt.grid(axis='both')\n",
    "\n",
    "plt.xlabel('X')\n",
    "plt.ylabel('f(X)')\n",
    "\n",
    "plt.show()"
   ]
  },
  {
   "cell_type": "markdown",
   "metadata": {},
   "source": [
    "Por lo tanto, en este caso tendriamos que el corte sería la unión de varios intervalos. Siempre que trazemos cualquier segmento, en este caso siempre habrá parte de la función que quede por debajo del segmento (básicamente porque hay un punto de inflexión)."
   ]
  },
  {
   "cell_type": "markdown",
   "metadata": {},
   "source": [
    "Por ende, como la premisa asegura la existencia de intervalos cerrados para cada corte, no tendremos puntos de inflexión ya que el gráfico se vería algo así:"
   ]
  },
  {
   "cell_type": "code",
   "execution_count": 30,
   "metadata": {
    "scrolled": false
   },
   "outputs": [
    {
     "data": {
      "image/png": "[encoded data removed]",
      "text/plain": [
       "<Figure size 432x288 with 1 Axes>"
      ]
     },
     "metadata": {
      "needs_background": "light"
     },
     "output_type": "display_data"
    }
   ],
   "source": [
    "import numpy as np\n",
    "import pylab as pl\n",
    "\n",
    "A = np.linspace(0,3,256,endpoint=True)\n",
    "B = np.linspace(3,5,256,endpoint=True)\n",
    "\n",
    "X, Y = 1+((A-3)/3), 1-((B-3)/2)\n",
    "\n",
    "P = [(3*-0.9+3),1+(((3*-0.9+3)-3)/3)]\n",
    "Q = [(2*0.9+3),1-(((2*0.9+3)-3)/2)]\n",
    "\n",
    "x_values = [P[0],Q[0]]\n",
    "y_values = [P[1],Q[1]]\n",
    "\n",
    "pl.plot(A,X)\n",
    "pl.plot(B,Y)\n",
    "pl.plot(x_values,y_values)\n",
    "\n",
    "pl.show()"
   ]
  },
  {
   "cell_type": "markdown",
   "metadata": {},
   "source": [
    "Entonces, es convexo."
   ]
  },
  {
   "cell_type": "markdown",
   "metadata": {},
   "source": [
    "---\n",
    "**Ejercicio 5.** Demuestra que cualquier número difuso trapezoidal es un conjunto difuso convexo.\n",
    "\n",
    "**Obs.:** Recuerda que un número difuso trapezoidal no es número difuso (no cumple la Definición 3.1.1), y por lo tanto, su convexidad no es una consecuencia del Ejercicio 4 de este ejercitario."
   ]
  },
  {
   "cell_type": "markdown",
   "metadata": {},
   "source": [
    "Simplemente, para cualquier par $x_1,x_2$ siempre:\n",
    "\n",
    "$\n",
    "    A[\\alpha x_1 + (1-\\alpha)x_2] \\geq min\\{ A(x_1), A(x_2) \\}\n",
    "$\n",
    "\n",
    "Supongamos un caso específico, como por ejemplo, un número difuso trapezoidal trfn=(1,2,4,5)."
   ]
  },
  {
   "cell_type": "code",
   "execution_count": 10,
   "metadata": {
    "scrolled": false
   },
   "outputs": [
    {
     "data": {
      "image/png": "[encoded data removed]",
      "text/plain": [
       "<Figure size 432x288 with 1 Axes>"
      ]
     },
     "metadata": {
      "needs_background": "light"
     },
     "output_type": "display_data"
    }
   ],
   "source": [
    "import pylab as pl\n",
    "import numpy as np\n",
    "\n",
    "#Definicion de dominios para el grafico\n",
    "V = np.linspace(0,1,256,endpoint=True)\n",
    "W = np.linspace(1,2,256,endpoint=True)\n",
    "X = np.linspace(2,4,256,endpoint=True)\n",
    "Y = np.linspace(4,5,256,endpoint=True)\n",
    "Z = np.linspace(5,6,256,endpoint=True)\n",
    "\n",
    "A,B,C,D,E = V*0,((W-1)/(1)),X/X,((5-Y)/(5-4)),Z*0\n",
    "\n",
    "pl.plot(V,A)\n",
    "pl.plot(W,B)\n",
    "pl.plot(X,C)\n",
    "pl.plot(Y,D)\n",
    "pl.plot(Z,E)\n",
    "\n",
    "pl.show()"
   ]
  },
  {
   "cell_type": "markdown",
   "metadata": {},
   "source": [
    "Para que este número difuso sea convexo, si unimos cualquier par de puntos (peretenecientes al trapecio) por medio de un segmento, cualquier punto del trapezoide entre estos puntos deben ser mayores o iguales al mínimo entre los puntos del segmento.\n",
    "\n",
    "De manera arbitraria elegimos por ejemplo los puntos P = (2,1) y Q = (4,1), la ecuacion de la recta que contiene a este segmento es y = 1. Que evidentemente es igual (en cada punto del trapecio) igual a la base superior.\n",
    "\n",
    "Graficamente sería algo com esto:"
   ]
  },
  {
   "cell_type": "code",
   "execution_count": 37,
   "metadata": {
    "scrolled": true
   },
   "outputs": [
    {
     "data": {
      "image/png": "[encoded data removed]",
      "text/plain": [
       "<Figure size 432x288 with 1 Axes>"
      ]
     },
     "metadata": {
      "needs_background": "light"
     },
     "output_type": "display_data"
    }
   ],
   "source": [
    "import pylab as pl\n",
    "import numpy as np\n",
    "\n",
    "#Definicion de dominios para el grafico\n",
    "V = np.linspace(0,1,256,endpoint=True)\n",
    "W = np.linspace(1,2,256,endpoint=True)\n",
    "X = np.linspace(2,4,256,endpoint=True)\n",
    "Y = np.linspace(4,5,256,endpoint=True)\n",
    "Z = np.linspace(5,6,256,endpoint=True)\n",
    "\n",
    "A,B,C,D,E = V*0,((W-1)/(1)),X/X,((5-Y)/(5-4)),Z*0\n",
    "\n",
    "pl.plot(V,A)\n",
    "pl.plot(W,B)\n",
    "pl.plot(X,C)\n",
    "pl.plot(Y,D)\n",
    "pl.plot(Z,E)\n",
    "\n",
    "#Definicion de la recta que contiene al segmento en cuestion\n",
    "#Para que se vea el segmento amplié un poco el dominio\n",
    "P = [1,1]\n",
    "Q = [5,1]\n",
    "\n",
    "x_values = [P[0],Q[0]]\n",
    "y_values = [P[1],Q[1]]\n",
    "\n",
    "pl.plot(x_values,y_values)\n",
    "\n",
    "pl.show()"
   ]
  },
  {
   "cell_type": "markdown",
   "metadata": {},
   "source": [
    "Para este ejemplo dado los puntos del trapecio son siempre iguales al segmento dado. Por lo tanto, parece ser un número difuso convexo.\n",
    "\n",
    "Analicemos otro caso, donde por ejemplo los puntos ahora son: P = (1,0) y Q = (4,1)"
   ]
  },
  {
   "cell_type": "code",
   "execution_count": 38,
   "metadata": {
    "scrolled": true
   },
   "outputs": [
    {
     "data": {
      "image/png": "[encoded data removed]",
      "text/plain": [
       "<Figure size 432x288 with 1 Axes>"
      ]
     },
     "metadata": {
      "needs_background": "light"
     },
     "output_type": "display_data"
    }
   ],
   "source": [
    "import pylab as pl\n",
    "import numpy as np\n",
    "\n",
    "#Definicion de dominios para el grafico\n",
    "V = np.linspace(0,1,256,endpoint=True)\n",
    "W = np.linspace(1,2,256,endpoint=True)\n",
    "X = np.linspace(2,4,256,endpoint=True)\n",
    "Y = np.linspace(4,5,256,endpoint=True)\n",
    "Z = np.linspace(5,6,256,endpoint=True)\n",
    "\n",
    "A,B,C,D,E = V*0,((W-1)/(1)),X/X,((5-Y)/(5-4)),Z*0\n",
    "\n",
    "pl.plot(V,A)\n",
    "pl.plot(W,B)\n",
    "pl.plot(X,C)\n",
    "pl.plot(Y,D)\n",
    "pl.plot(Z,E)\n",
    "\n",
    "#Definicion de la recta que contiene al segmento en cuestion\n",
    "#Para que se vea el segmento amplié un poco el dominio\n",
    "P = [1,0]\n",
    "Q = [4,1]\n",
    "\n",
    "x_values = [P[0],Q[0]]\n",
    "y_values = [P[1],Q[1]]\n",
    "\n",
    "pl.plot(x_values,y_values)\n",
    "\n",
    "pl.show()"
   ]
  },
  {
   "cell_type": "markdown",
   "metadata": {},
   "source": [
    "En este caso, el minimo del segmento es el punto (1,0) que da como resultado 0. Si comparamos con cada uno de los valores del trapecio notamos que éstos son siempre mayores o iguales que el 0.\n",
    "\n",
    "De hecho si siempre trazamos segmentos de pendiente positiva es gráficamente visible que siempre el trapecio tendrá valores mayores o iguales que el mínimo del segmento en cuestión. \n",
    "\n",
    "Veamos que pasa si el segmento tiene pendiente negativa."
   ]
  },
  {
   "cell_type": "markdown",
   "metadata": {},
   "source": [
    "Los puntos en cuestión en este caso serán por ejemplo P = (2,1) y Q = (5,0)"
   ]
  },
  {
   "cell_type": "code",
   "execution_count": 39,
   "metadata": {
    "scrolled": true
   },
   "outputs": [
    {
     "data": {
      "image/png": "[encoded data removed]",
      "text/plain": [
       "<Figure size 432x288 with 1 Axes>"
      ]
     },
     "metadata": {
      "needs_background": "light"
     },
     "output_type": "display_data"
    }
   ],
   "source": [
    "import pylab as pl\n",
    "import numpy as np\n",
    "\n",
    "#Definicion de dominios para el grafico\n",
    "V = np.linspace(0,1,256,endpoint=True)\n",
    "W = np.linspace(1,2,256,endpoint=True)\n",
    "X = np.linspace(2,4,256,endpoint=True)\n",
    "Y = np.linspace(4,5,256,endpoint=True)\n",
    "Z = np.linspace(5,6,256,endpoint=True)\n",
    "\n",
    "A,B,C,D,E = V*0,((W-1)/(1)),X/X,((5-Y)/(5-4)),Z*0\n",
    "\n",
    "pl.plot(V,A)\n",
    "pl.plot(W,B)\n",
    "pl.plot(X,C)\n",
    "pl.plot(Y,D)\n",
    "pl.plot(Z,E)\n",
    "\n",
    "#Definicion de la recta que contiene al segmento en cuestion\n",
    "#Para que se vea el segmento amplié un poco el dominio\n",
    "P = [2,1]\n",
    "Q = [5,0]\n",
    "\n",
    "x_values = [P[0],Q[0]]\n",
    "y_values = [P[1],Q[1]]\n",
    "\n",
    "pl.plot(x_values,y_values)\n",
    "\n",
    "pl.show()"
   ]
  },
  {
   "cell_type": "markdown",
   "metadata": {},
   "source": [
    "Notamos que, para cualquier segmento de pendiente negativa pasa exactamento lo mismo. Cada punto del trapecio es siempre mayor o igual al mínimo del segmento en cuestión. \n",
    "\n",
    "Concluimos entonces que: \"Un número difuso trapezoidal es un número difuso convexo\"."
   ]
  },
  {
   "cell_type": "markdown",
   "metadata": {},
   "source": [
    "---\n",
    "**Ejercicio 6.** Demuestra que la multiplicación intervalar no es distributiva con respecto a la suma; de hecho es subdistributiva. Dado tres intervalos cualesquiera $[a,b]$, $[c,d]$ y $[e,f]$:\n",
    "1. Demuestra que $[a,b]\\cdot ([c,d]+[e,f]) \\subseteq [a,b]\\cdot [c,d]+[a,b]\\cdot [e,f]$.\n",
    "2. Demuestra a traves de un contraejemplo que $[a,b]\\cdot [c,d]+[a,b]\\cdot [e,f] \\nsubseteq [a,b]\\cdot ([c,d]+[e,f])$."
   ]
  },
  {
   "cell_type": "markdown",
   "metadata": {},
   "source": [
    "### Anexo 1\n",
    "\n",
    "#### Primero, analizaremos el caso en el que todos los valores a,b,c,d,e,f son diferentes\n",
    "\n",
    "Para poder demostrar el ítem 1 es necesario desarrollar cada uno de los miembros con las propiedades sí conocidas para las operaciones intervalares. \n",
    "\n",
    "Analicemos primeramente el primer miembro\n",
    "\n",
    "$[a,b]\\cdot([c,d]+[e,f])$\n",
    "\n",
    "Desarrollamos según la jerarquía de los operadores atirméticos, en este caso, primero lo que hay dentro del paréntesis\n",
    "\n",
    "$[c,d]+[e,f] = [c+e,d+f]$\n",
    "\n",
    "Luego, tenemos que $[a,b]\\cdot[c+e,d+f]$ puede ser calculado mediante:\n",
    "\n",
    "$\n",
    "[a,b]\\cdot[c+e,d+f] = [min(a\\cdot(c+e),a\\cdot(d+f),b\\cdot(c+e),b\\cdot(d+f)),max(a\\cdot(c+e),a\\cdot(d+f),b\\cdot(c+e),b\\cdot(d+f))]\n",
    "$\n",
    "\n",
    "Supongamos que $a,b,c,d,e,f\\in \\mathbb R^+$\n",
    "\n",
    "Como hablamos de intervalos, se debe cumplir que $a\\leq b, c\\leq d,e \\leq f $\n",
    "\n",
    "Asumiremos solo que $a<b, c<d, e<f$ por ahora.\n",
    "\n",
    "Para el ínfimo del intervalo tenemos que si $a<b$ los candidatos a ser mínimos serán solo $a(c+e)$ y $a(d+f)$ ya que:\n",
    "\n",
    "$\n",
    "    a<b\\\\\n",
    "    a(c+e)<b(c+e)\\;,ya\\;que\\;c+e>0\n",
    "$\n",
    "\n",
    "$\n",
    "    a<b\\\\\n",
    "    a(d+f)<b(d+f)\\;,ya\\;que\\;d+f>0\n",
    "$\n",
    "\n",
    "Entonces $min(a\\cdot(c+e),a\\cdot(d+f),b\\cdot(c+e),b\\cdot(d+f)) = min(a\\cdot(c+e),a\\cdot(d+f))$\n",
    "\n",
    "Ahora, analicemos los productos:\n",
    "\n",
    "$\n",
    "    c<d\\\\\n",
    "    e<f\\\\\n",
    "    c+e<d+f\\;(Ley\\;de\\;monotonía\\;de\\;la\\;suma)\\\\\n",
    "    a(c+e)<a(d+f)\\;ya\\;que\\;a>0\n",
    "$\n",
    "\n",
    "Por lo tanto $min(a\\cdot(c+e),a\\cdot(d+f)) = a(c+e)$\n",
    "\n",
    "Para el supremo del intervalo tenemos que si $a<b$ los candidatos a ser máximos serán solo $b(c+e)$ y $b(d+f)$ ya que:\n",
    "\n",
    "$\n",
    "    a<b\\\\\n",
    "    a(c+e)<b(c+e)\\;,ya\\;que\\;c+e>0\n",
    "$\n",
    "\n",
    "$\n",
    "    a<b\\\\\n",
    "    a(d+f)<b(d+f)\\;,ya\\;que\\;d+f>0\n",
    "$\n",
    "\n",
    "Entonces $max(a\\cdot(c+e),a\\cdot(d+f),b\\cdot(c+e),b\\cdot(d+f)) = max(b\\cdot(c+e),b\\cdot(d+f))$\n",
    "\n",
    "Ahora, analicemos los productos:\n",
    "\n",
    "$\n",
    "    c<d\\\\\n",
    "    e<f\\\\\n",
    "    c+e<d+f\\;(Ley\\;de\\;monotonía\\;de\\;la\\;suma)\\\\\n",
    "    b(c+e)<b(d+f)\\;ya\\;que\\;b>0\n",
    "$\n",
    "\n",
    "Por lo tanto $max(b\\cdot(c+e),b\\cdot(d+f)) = b(d+f)$\n",
    "\n",
    "Aquí, obtenemos que el intervalo resultante de $[a,b]\\cdot([c,d]+[e,f]) = [a(c+e),b(d+f)]$\n",
    "\n",
    "Utilizando como hipótesis las mismas premisas podemos concluir que:\n",
    "\n",
    "$\n",
    "    Hipótesis: \\; a<b,c<d,e<f:\\forall(a,b,c,d,e,f)\\in \\mathbb R^+ \\\\\n",
    "    [a,b]\\cdot[c,d] + [a,b]\\cdot[e,f] = [min(ac,ad,bc,bd)+min(ae,af,be,bf),max(ac,ad,bc,bd)+max(ae,af,be,bf)]\\\\\n",
    "$\n",
    "\n",
    "Ya que $a<b$:\n",
    "\n",
    "$\n",
    "    [a,b]\\cdot[c,d] + [a,b]\\cdot[e,f] = [min(ac,ad)+min(ae,af),max(bc,bd)+max(be,bf)]\\\\\n",
    "    c<d\\\\\n",
    "    ac<ad\\land bc<bd\\\\\n",
    "    e<f\\\\\n",
    "    ae<af\\land be<bf\\\\\n",
    "    [a,b]\\cdot[c,d] + [a,b]\\cdot[e,f] = [ac+ae,bd+bf]\\\\\n",
    "    [a,b]\\cdot[c,d] + [a,b]\\cdot[e,f] = [a(c+e),b(d+f)]\n",
    "$\n",
    "\n",
    "<center>\n",
    "    $\n",
    "        \\therefore [a,b]\\cdot([c,d]+[e,f]) = [a,b]\\cdot[c,d] + [a,b]\\cdot[e,f]\n",
    "    $\n",
    "</center>\n",
    "\n",
    "Ahora, ¿qué pasaría si $a<b,c<d,e<f:\\forall(a,b,c,d,e,f)\\in \\mathbb R^-$?\n",
    "\n",
    "En el primer miembro pasa que:\n",
    "\n",
    "$[a,b]\\cdot([c,d]+[e,f])$\n",
    "\n",
    "Desarrollamos según la jerarquía de los operadores atirméticos, en este caso, primero lo que hay dentro del paréntesis\n",
    "\n",
    "$[c,d]+[e,f] = [c+e,d+f]$\n",
    "\n",
    "Luego, tenemos que $[a,b]\\cdot[c+e,d+f]$ puede ser calculado mediante:\n",
    "\n",
    "$\n",
    "[a,b]\\cdot[c+e,d+f] = [min(a\\cdot(c+e),a\\cdot(d+f),b\\cdot(c+e),b\\cdot(d+f)),max(a\\cdot(c+e),a\\cdot(d+f),b\\cdot(c+e),b\\cdot(d+f))]\n",
    "$\n",
    "\n",
    "En este caso particular sucede que como:\n",
    "\n",
    "$\n",
    "    a<b \\land c+e<0\\\\\n",
    "    a(c+e) > b(c+e)\\\\\n",
    "    a(d+f) > b(d+f)\\\\\n",
    "$\n",
    "\n",
    "$\n",
    "    c<d\\\\\n",
    "    e<f\\\\\n",
    "    c+e<d+f\\\\\n",
    "    a(c+e)>a(d+f) \\land b(c+e)>b(d+f)\\\\\n",
    "$\n",
    "\n",
    "$\n",
    "    [a,b]\\cdot[c+e,d+f] = [min(b(c+e),b(d+f)), max(a(c+e),a(d+f))]\\\\\n",
    "    [a,b]\\cdot[c+e,d+f] = [b(d+f),a(c+e)]\n",
    "$\n",
    "\n",
    "Por otro lado, tenemos que si:\n",
    "\n",
    "$\n",
    "    c<d\\\\\n",
    "    ac>ad \\land bc>bd\\\\\n",
    "$\n",
    "\n",
    "$\n",
    "    e<f\\\\\n",
    "    ae<af \\land be>bf\\\\\n",
    "$\n",
    "\n",
    "$\n",
    "    a<b\\\\\n",
    "    ad>bd \\land af>bf \\land ac>bc \\land ae>be\\\\\n",
    "$\n",
    "\n",
    "Entonces,\n",
    "\n",
    "$\n",
    "    [a,b]\\cdot[c,d] + [a,b]\\cdot[e,f] = [min(ac,ad,bc,bd)+min(ae,af,be,bf),max(ac,ad,bc,bd)+max(ae,af,be,bf)]\\\\\n",
    "    [a,b]\\cdot[c,d] + [a,b]\\cdot[e,f] = [min(ad,bd)+min(af,bf),max(ac,bc)+max(ae,be)]\\\\\n",
    "    [a,b]\\cdot[c,d] + [a,b]\\cdot[e,f] = [bd+bf,ac+ae]\\\\\n",
    "    [a,b]\\cdot[c,d] + [a,b]\\cdot[e,f] = [b(d+f),a(c+e)]\n",
    "$\n",
    "\n",
    "También evidenciamos que es distributiva.\n",
    "\n",
    "\n",
    "#### ¿Qué pasaría si a=b=c=d=e=f?\n",
    "\n",
    "Implícitamente, asumimos tambien valores nulos aquí.\n",
    "\n",
    "$\n",
    "    [a,b]\\cdot([c,d]+[e,f]) = [a,a]\\cdot([a,a]+[a,a]) = [a,a]\\cdot([a+a,a+a]) = [a,a]\\cdot[ 2a,2a]=...\\\\\n",
    "    ...= [min(a\\cdot 2a,a\\cdot 2a,a\\cdot 2a,a\\cdot 2a),max(a\\cdot 2a,a\\cdot 2a,a\\cdot 2a,a\\cdot 2a)]=...\\\\\n",
    "    ...=[2a^2,2a^2]\n",
    "$\n",
    "\n",
    "$\n",
    "    [a,b]\\cdot[c,d]+[a,b]\\cdot[e,f] = [a,a]\\cdot[a,a] + [a,a]\\cdot[a,a] = ...\\\\\n",
    "    ...=[min(a\\cdot a,a\\cdot a,a\\cdot a,a\\cdot a),max(a\\cdot a,a\\cdot a,a\\cdot a,a\\cdot a)+min(a\\cdot a,a\\cdot a,a\\cdot a,a\\cdot a),max(a\\cdot a,a\\cdot a,a\\cdot a,a\\cdot a)]=...\\\\\n",
    "    ...=[a^2,a^2]+[a^2,a^2] = [2a^2,2a^2]\n",
    "$\n",
    "\n",
    "#### ¿Qué pasaría si a,c,e < 0 y b,d,f > 0?\n",
    "\n",
    "$\n",
    "    [a,b]\\cdot([c,d]+[e,f]) = [min(a\\cdot(c+e),a\\cdot(d+f),b\\cdot(c+e),b\\cdot(d+f)),max(a\\cdot(c+e),a\\cdot(d+f),b\\cdot(c+e),b\\cdot(d+f))]\n",
    "$\n",
    "\n",
    "$\n",
    "    a<b\\\\\n",
    "    a(c+e)>b(c+e),(c+e)<0\\\\\n",
    "    a(d+f)<b(d+f),(d+f)>0\n",
    "$\n",
    "\n",
    "$\n",
    "    [a,b]\\cdot([c,d]+[e,f]) = [min(b(c+e),a(d+f)),max(a(c+e),b(d+f))]\n",
    "$\n",
    "\n",
    "$\n",
    "    [a,b]\\cdot[c,d] + [a,b]\\cdot[e,f] = [min(ac,ad,bc,bd)+min(ae,af,be,bf),max(ac,ad,bc,bd)+max(ae,af,be,bf)]\n",
    "$\n",
    "\n",
    "$\n",
    "    a<0 \\land c<0 \\land e<0 \\land b>0 \\land d>0 \\land f>0\\\\\n",
    "    ac>0,ad<0,bc<0,bd>0,ae>0,af<0,be<0,bf>0\\\\\n",
    "$\n",
    "\n",
    "$\n",
    "    [a,b]\\cdot[c,d] + [a,b]\\cdot[e,f] = [min(ad,bc)+min(af,be), max(ac,bd)+max(ae,bf)]\n",
    "$\n",
    "\n",
    "El criterio no es concluyente.\n",
    "\n",
    "En conclusión, puede ser distributiva como tal vez no."
   ]
  },
  {
   "cell_type": "markdown",
   "metadata": {},
   "source": [
    "### Anexo 2\n",
    "\n",
    "$\n",
    "    [-1,2][-3,-1] + [-1,2][3,3] = [-6,3] + [-3,6] = [-9,9]\\\\\n",
    "    [-1,2]([-3,-1]+[3,3]) = [-1,2][0,2] = [-2,4]\n",
    "$\n",
    "\n",
    "Aquí $[-9,9]\\nsubseteq[-2,4]$"
   ]
  }
 ],
 "metadata": {
  "kernelspec": {
   "display_name": "Python 3",
   "language": "python",
   "name": "python3"
  },
  "language_info": {
   "codemirror_mode": {
    "name": "ipython",
    "version": 3
   },
   "file_extension": ".py",
   "mimetype": "text/x-python",
   "name": "python",
   "nbconvert_exporter": "python",
   "pygments_lexer": "ipython3",
   "version": "3.8.5"
  }
 },
 "nbformat": 4,
 "nbformat_minor": 4
}
