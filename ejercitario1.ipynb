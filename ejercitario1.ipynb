{
 "cells": [
  {
   "cell_type": "markdown",
   "metadata": {},
   "source": [
    "# __Ejercitario 1__: Conjuntos Difusos y sus Operaciones\n",
    "\n",
    "Responde a las preguntas de abajo utilizando este mismo notebook. Recuerda de seguir las instrucciones de envío que están en la plataforma Educa."
   ]
  },
  {
   "cell_type": "markdown",
   "metadata": {},
   "source": [
    "---\n",
    "1. Considera el conjunto $B_n=\\{0,1\\}^n$, esto es, $B_n$ es el conjunto de los número binarios de longitud $n$. Sea el universo $U= \\bigcup_{n\\geq 1} B_n$. Si $x=x_1\\cdots x_n$ e $y=y_1\\cdots y_m$ son dos cadenas de bits de longitud $n$ y $m$, define el orden parcial $\\leq$ en $U$ como sigue:\n",
    "\n",
    "    >$x\\leq y$ si y solo si se cumple (i) $n<m$ o (ii) $n=m$ y $x_i\\leq y_i$ para todo $i=1,2,\\dots,n$.\n",
    "\n",
    "    Encuentra el supremo y el ínfimo de $B_n$ y explica porque esos elementos son el supremo y el ínfimo."
   ]
  },
  {
   "cell_type": "markdown",
   "metadata": {},
   "source": []
  },
  {
   "cell_type": "markdown",
   "metadata": {},
   "source": [
    "2. Demuestra la Proposición 2.1.2 del libro de texto."
   ]
  },
  {
   "cell_type": "markdown",
   "metadata": {},
   "source": []
  },
  {
   "cell_type": "markdown",
   "metadata": {},
   "source": [
    "---\n",
    "3. Demuestra el Ejemplo 2.1.4 del libro de texto."
   ]
  },
  {
   "cell_type": "markdown",
   "metadata": {},
   "source": []
  },
  {
   "cell_type": "markdown",
   "metadata": {},
   "source": [
    "---\n",
    "4. Sean $A=a_1/x_1+\\cdots +a_n/x_n$ y $B=b_1/x_1+\\cdots+b_n/x_n$ dos conjuntos difusos, donde $1>a_1> a_2> \\cdots >a_n>0$ y $0<b_1< b_2 < \\cdots < b_n<1$. Calcula:\n",
    "\n",
    "    1. $A \\cup B$.\n",
    "    2. $B \\cap B$.\n",
    "    3. El complemento de $A$ y el complemento de $B$.\n",
    "    4. El producto algebraico de $A$ y $B$."
   ]
  },
  {
   "cell_type": "markdown",
   "metadata": {},
   "source": []
  },
  {
   "cell_type": "markdown",
   "metadata": {},
   "source": [
    "---\n",
    "5. Sean $A:X\\to [0,1]$ y $B:X\\to[0,1]$ dos conjuntos difusos. Demostrar que $(A\\cap B)^c=A^c\\cup B^c$."
   ]
  },
  {
   "cell_type": "markdown",
   "metadata": {},
   "source": []
  },
  {
   "cell_type": "markdown",
   "metadata": {},
   "source": [
    "---\n",
    "6. Sea $A:\\mathbb{R}\\to [0,1]$ un conjunto difuso donde $A(x)=-x^2+x$ para $x\\in [0,1]$ y $A(x)=0$ para $x\\notin [0,1]$. La figura de abajo muestra la curva de $A(x)$.\n",
    "    1. ¿Cuál es el soporte (*support*) de $A$?.\n",
    "    2. ¿Cuánto es la altura (*height*) de $A$?.\n",
    "    3. ¿Cuál es el núcleo (*core*) de $A$?.\n",
    "    4. ¿Es $A$ un conjunto difuso convexo? Explicar porque sí o porque no."
   ]
  },
  {
   "cell_type": "code",
   "execution_count": 15,
   "metadata": {
    "jupyter": {
     "source_hidden": true
    }
   },
   "outputs": [
    {
     "data": {
      "image/png": "[encoded data removed]",
      "text/plain": [
       "Graphics object consisting of 1 graphics primitive"
      ]
     },
     "execution_count": 15,
     "metadata": {},
     "output_type": "execute_result"
    }
   ],
   "source": [
    "plot(-x^2+x, [0,1])"
   ]
  },
  {
   "cell_type": "markdown",
   "metadata": {},
   "source": []
  },
  {
   "cell_type": "markdown",
   "metadata": {},
   "source": [
    "---\n",
    "7. Da un ejemplo concreto de un conjunto difuso que no es convexo. Luego da una explicación de porque no es convexo."
   ]
  },
  {
   "cell_type": "markdown",
   "metadata": {},
   "source": []
  },
  {
   "cell_type": "markdown",
   "metadata": {},
   "source": [
    "---\n",
    "8. Da un contraejemplo de porque no se cumple la propiedad ${}^\\alpha A \\subseteq {}^{\\alpha+}A$."
   ]
  },
  {
   "cell_type": "markdown",
   "metadata": {},
   "source": []
  },
  {
   "cell_type": "markdown",
   "metadata": {},
   "source": [
    "---\n",
    "9. Demuestra que la operación binaria $a*b=\\max(0,a+b-1)$ es una norma triangular."
   ]
  },
  {
   "cell_type": "markdown",
   "metadata": {},
   "source": []
  },
  {
   "cell_type": "markdown",
   "metadata": {},
   "source": [
    "---\n",
    "10. Sea $f:\\mathbb{R}\\to \\mathbb{R}$ una función definido como $f(x)=x^2$, y sea $A$ el conjunto difuso definido en el ítem 6 de este ejercitario.\n",
    "    1. Escribe $f(A)$ utilizando la notación de Zadeh.\n",
    "    2. Dibuja la curva del grado de $f(A)$.\n",
    "    3. Explica si $f(A)$ es un conjunto difuso convexo o no."
   ]
  },
  {
   "cell_type": "markdown",
   "metadata": {},
   "source": []
  }
 ],
 "metadata": {
  "kernelspec": {
   "display_name": "Python 3",
   "language": "python",
   "name": "python3"
  },
  "language_info": {
   "codemirror_mode": {
    "name": "ipython",
    "version": 3
   },
   "file_extension": ".py",
   "mimetype": "text/x-python",
   "name": "python",
   "nbconvert_exporter": "python",
   "pygments_lexer": "ipython3",
   "version": "3.8.5"
  }
 },
 "nbformat": 4,
 "nbformat_minor": 4
}
