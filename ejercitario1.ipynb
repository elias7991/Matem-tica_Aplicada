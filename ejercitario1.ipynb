{
 "cells": [
  {
   "cell_type": "markdown",
   "metadata": {},
   "source": [
    "# __Ejercitario 1__: Conjuntos Difusos y sus Operaciones\n",
    "\n",
    "Responde a las preguntas de abajo utilizando este mismo notebook. Recuerda de seguir las instrucciones de envío que están en la plataforma Educa."
   ]
  },
  {
   "cell_type": "markdown",
   "metadata": {},
   "source": [
    "---\n",
    "1. Considera el conjunto $B_n=\\{0,1\\}^n$, esto es, $B_n$ es el conjunto de los número binarios de longitud $n$. Sea el universo $U= \\bigcup_{n\\geq 1} B_n$. Si $x=x_1\\cdots x_n$ e $y=y_1\\cdots y_m$ son dos cadenas de bits de longitud $n$ y $m$, define el orden parcial $\\leq$ en $U$ como sigue:\n",
    "\n",
    "    >$x\\leq y$ si y solo si se cumple (i) $n<m$ o (ii) $n=m$ y $x_i\\leq y_i$ para todo $i=1,2,\\dots,n$.\n",
    "\n",
    "    Encuentra el supremo y el ínfimo de $B_n$ y explica porque esos elementos son el supremo y el ínfimo."
   ]
  },
  {
   "cell_type": "markdown",
   "metadata": {},
   "source": []
  },
  {
   "cell_type": "markdown",
   "metadata": {},
   "source": [
    "---\n",
    "2. Demuestra la Proposición 2.1.2 del libro de texto."
   ]
  },
  {
   "cell_type": "markdown",
   "metadata": {},
   "source": [
    "Proposición 2.1.2 Asumiendo que P es un conjunto parcialmente ordenado y $X\\subseteq P$. Entonces $X$ puede tener a lo sumo un lub.\n",
    "\n",
    "Tomemos dos elementos, tal que: $m,n\\in P$ y elementos cualesquiera $x\\in X$\n",
    "\n",
    "Ya que $m,n$ son lub's de $X$ tendremos que: $x \\leq m$ y $x \\leq n$\n",
    "\n",
    "Cuando $m$ es lub y si $n\\in X$ se da que: $n \\leq m$\n",
    "\n",
    "Simétricamente cuando $n$ es lub y si $m \\in X$ se da que: $m \\leq n$\n",
    "\n",
    "Teniendo en cuenta la propiedad antisimétrica de los conjuntos parcialmente ordenados que dice lo siguiente:\n",
    "\n",
    "$\n",
    "    \\forall a,b \\in P : a \\leq b \\land b \\leq a \\Longrightarrow a = b \n",
    "$\n",
    "\n",
    "$\n",
    "    como\\;n\\leq m \\land m\\leq n \\Longrightarrow m=n\n",
    "$\n",
    "\n",
    "<center>Podemos concluir que todo subconjunto parcialmente ordenado tiene a lo sumo un least upper bound (lub)</center>"
   ]
  },
  {
   "cell_type": "markdown",
   "metadata": {},
   "source": [
    "---\n",
    "3. Demuestra el Ejemplo 2.1.4 del libro de texto."
   ]
  },
  {
   "cell_type": "markdown",
   "metadata": {},
   "source": [
    "Dado el poset $ X = \\{ false,true \\}, false \\leq true $ demostraremos que es un frame.\n",
    "\n",
    "(i) Cada subconjunto P tiene un Supremo\n",
    "\n",
    "Los subconjuntos son $\\{ false \\}, \\{ true \\}, \\{ false,true \\} $\n",
    "\n",
    "Dado $true \\in X , false \\in P$\n",
    "\n",
    "$ false \\leq true \\Longrightarrow true\\;es\\;supremo $\n",
    "\n",
    "Análogamente, encontramos que $true$ es supremo de cada subconjunto $P\\in X$\n",
    "\n",
    "(ii) Cada subconjunto finito tiene un ínfimo\n",
    "\n",
    "Dado $false\\in X, false \\in P$\n",
    "\n",
    "$ false \\leq true \\Longrightarrow false\\;es\\;ínfimo $\n",
    "\n",
    "Análogamente, encontramos que $false$ es ínfimo de cada subconjunto $P\\in X$\n",
    "\n",
    "(iii) El operador $\\land$ es distributiva sobre $\\lor$\n",
    "\n",
    "Contruimos la tabla de certeza para demostrar que la operación $\\land$ es distributiva sobre $\\lor$ es válida suponiendo $x,y\\in\\{ false,true \\}$\n",
    "\n",
    "Para cualquier valor de $x$ e $y$ debe darse que: $x\\land(x\\lor y)=(x\\land x) \\lor (x \\land y)$\n",
    "\n",
    "<center>\n",
    "    \n",
    "    \n",
    "    Tabla de certeza\n",
    "\n",
    "| x | y  | x $\\land$ x | x $\\land$ y | (x $\\land$ x) $\\lor$ (x $\\land$ y) |\n",
    "|:-----:|:-----:|:-------------------:|:------------------:|:------------:|\n",
    "|   true   |   true  |   true       |     true      |  true   |\n",
    "|   true   |   false |   true       |     false     |  true   |\n",
    "|   false  |   true  |   false      |     false     |  false  |\n",
    "|   false  |   false |   false      |     false     |  false  |\n",
    "\n",
    "</center>\n",
    "\n",
    "Como vemos, la primera fila de la tabla contiene solo premisas verdaderas (1) y con ella llegamos a una conclusión verdadera, eso implica que la regla es válida. "
   ]
  },
  {
   "cell_type": "markdown",
   "metadata": {},
   "source": [
    "---\n",
    "4. Sean $A=a_1/x_1+\\cdots +a_n/x_n$ y $B=b_1/x_1+\\cdots+b_n/x_n$ dos conjuntos difusos, donde $1>a_1> a_2> \\cdots >a_n>0$ y $0<b_1< b_2 < \\cdots < b_n<1$. Calcula:\n",
    "\n",
    "    1. $A \\cup B$.\n",
    "    2. $A \\cap B$.\n",
    "    3. El complemento de $A$ y el complemento de $B$.\n",
    "    4. El producto algebraico de $A$ y $B$."
   ]
  },
  {
   "cell_type": "markdown",
   "metadata": {},
   "source": [
    "### Anexo A.\n",
    "\n",
    "Teniendo en cuenta que $A(x)\\cup B(x) = max \\{ A(x), B(x) \\}, \\; \\forall x\\in \\mathbb{N}: x\\in[1,n] $\n",
    "\n",
    "La operación de unión de los conjuntos difusos A(x) y B(x) se vería como:\n",
    "\n",
    "$\n",
    "    A(x)\\cup B(x) = max\\{ \\{ \\frac{a_1}{x_1}+\\frac{a_2}{x_2}+...+\\frac{a_n}{x_n} \\}, \\{ \\frac{b_1}{x_1}+\\frac{b_2}{x_2}+...+\\frac{a_n}{x_n} \\} \\}\\\\\n",
    "    \\\\\n",
    "    1>a_1>a_2>...>a_n>0 \\; \\land \\; 0>b_1>b_2>...>b_n \\Longrightarrow \\exists i:a_i = b_i\n",
    "$\n",
    "\n",
    "De este modo, los primeros $i-1$ máximos son $\\{ a_1,a_2,...,a_{i-1} \\}$\n",
    "\n",
    "Hay una intersección en el $i-ésimo$ término (elegimos arbitrariamente como término central a $a_i$)\n",
    "\n",
    "Los últimos máximos serán $\\{ b_{i+1}, b_{i+2}, ... , b_{n} \\}$\n",
    "\n",
    "Así, la operación de unión resultará de la siguiente forma:\n",
    "\n",
    "$\n",
    "    A(x) \\cup B(x) = \\{ \\frac{a_1}{x_1}+\\frac{a_2}{x_2}+...+\\frac{a_i}{x_i}+\\frac{b_{i+1}}{x_{i+1}}+\\frac{b_{i+2}}{x_{i+2}}+...+\\frac{b_n}{x_n} \\}\n",
    "$\n",
    "\n",
    "$B(x)$ es la recta de pendiente positiva y $A(x)$ de pendiente negativa en el siguiente gráfico:\n",
    " (no supe sacar los números de los ejes para que sea representativo nada más)"
   ]
  },
  {
   "cell_type": "code",
   "execution_count": 21,
   "metadata": {},
   "outputs": [
    {
     "data": {
      "image/png": "[encoded data removed]",
      "text/plain": [
       "<Figure size 432x288 with 1 Axes>"
      ]
     },
     "metadata": {
      "needs_background": "light"
     },
     "output_type": "display_data"
    }
   ],
   "source": [
    "from matplotlib import pyplot\n",
    "\n",
    "def A(x):\n",
    "    return -x+1\n",
    "\n",
    "def B(x):\n",
    "    return x\n",
    "\n",
    "x = range(0,2)\n",
    "\n",
    "pyplot.plot(x, [A(i) for i in x])\n",
    "pyplot.plot(x, [B(i) for i in x])\n",
    "\n",
    "pyplot.xlim(0, 1)\n",
    "pyplot.ylim(0, 1)\n",
    "\n",
    "pyplot.show()"
   ]
  },
  {
   "cell_type": "markdown",
   "metadata": {},
   "source": [
    "El resultado se vería así"
   ]
  },
  {
   "cell_type": "code",
   "execution_count": 43,
   "metadata": {
    "scrolled": true
   },
   "outputs": [
    {
     "name": "stdout",
     "output_type": "stream",
     "text": [
      "\n",
      "\tEl resultado de la unión de A y B es \n",
      "\n"
     ]
    },
    {
     "data": {
      "image/png": "[encoded data removed]",
      "text/plain": [
       "<Figure size 432x288 with 1 Axes>"
      ]
     },
     "metadata": {
      "needs_background": "light"
     },
     "output_type": "display_data"
    }
   ],
   "source": [
    "from matplotlib import pyplot\n",
    "\n",
    "def A(x):\n",
    "    return -(x+0.5)+1\n",
    "\n",
    "def B(x):\n",
    "    return (x-0.5)\n",
    "\n",
    "print(\"\\n\\tEl resultado de la unión de A y B es \\n\")\n",
    "\n",
    "x = range(0,3)\n",
    "\n",
    "pyplot.plot(x, [A(i) for i in x])\n",
    "pyplot.plot(x, [B(i) for i in x])\n",
    "\n",
    "pyplot.xlim(0, 1)\n",
    "pyplot.ylim(0, 1)\n",
    "\n",
    "\n",
    "pyplot.show()"
   ]
  },
  {
   "cell_type": "markdown",
   "metadata": {},
   "source": [
    "### Anexo B.\n",
    "\n",
    "Análogamente al anexo A, tendríamos que:\n",
    "\n",
    "$\n",
    "    A(x)\\cap B(x) = min\\{ \\{ \\frac{a_1}{x_1}+\\frac{a_2}{x_2}+...+\\frac{a_n}{x_n} \\}, \\{ \\frac{b_1}{x_1}+\\frac{b_2}{x_2}+...+\\frac{a_n}{x_n} \\} \\}\\\\\n",
    "    \\\\\n",
    "    1>a_1>a_2>...>a_n>0 \\; \\land \\; 0>b_1>b_2>...>b_n \\Longrightarrow \\exists i:a_i = b_i\n",
    "$\n",
    "\n",
    "De este modo, los primeros $i-1$ mínimos son $\\{ b_1,b_2,...,b_{i-1} \\}$\n",
    "\n",
    "Hay una intersección en el $i-ésimo$ término (elegimos arbitrariamente como término central a $b_i$)\n",
    "\n",
    "Los últimos mínimos serán $\\{ a_{i+1}, a_{i+2}, ... , a_{n} \\}$\n",
    "\n",
    "Así, la operación de unión resultará de la siguiente forma:\n",
    "\n",
    "$\n",
    "    A(x) \\cap B(x) = \\{ \\frac{b_1}{x_1}+\\frac{b_2}{x_2}+...+\\frac{b_i}{x_i}+\\frac{a_{i+1}}{x_{i+1}}+\\frac{a_{i+2}}{x_{i+2}}+...+\\frac{b_n}{x_n} \\}\n",
    "$\n",
    "\n",
    "$B(x)$ es la recta de pendiente positiva y $A(x)$ de pendiente negativa en el siguiente gráfico:\n"
   ]
  },
  {
   "cell_type": "code",
   "execution_count": 44,
   "metadata": {
    "scrolled": true
   },
   "outputs": [
    {
     "data": {
      "image/png": "[encoded data removed]",
      "text/plain": [
       "<Figure size 432x288 with 1 Axes>"
      ]
     },
     "metadata": {
      "needs_background": "light"
     },
     "output_type": "display_data"
    }
   ],
   "source": [
    "from matplotlib import pyplot\n",
    "\n",
    "def A(x):\n",
    "    return -x+1\n",
    "\n",
    "def B(x):\n",
    "    return x\n",
    "\n",
    "x = range(0,2)\n",
    "\n",
    "pyplot.plot(x, [A(i) for i in x])\n",
    "pyplot.plot(x, [B(i) for i in x])\n",
    "\n",
    "pyplot.xlim(0, 1)\n",
    "pyplot.ylim(0, 1)\n",
    "\n",
    "pyplot.show()"
   ]
  },
  {
   "cell_type": "code",
   "execution_count": 45,
   "metadata": {
    "scrolled": true
   },
   "outputs": [
    {
     "name": "stdout",
     "output_type": "stream",
     "text": [
      "\n",
      "\tEl resultado de la unión de A y B es \n",
      "\n"
     ]
    },
    {
     "data": {
      "image/png": "[encoded data removed]",
      "text/plain": [
       "<Figure size 432x288 with 1 Axes>"
      ]
     },
     "metadata": {
      "needs_background": "light"
     },
     "output_type": "display_data"
    }
   ],
   "source": [
    "from matplotlib import pyplot\n",
    "\n",
    "def A(x):\n",
    "    return -(x-0.5)+1\n",
    "\n",
    "def B(x):\n",
    "    return (x+0.5)\n",
    "\n",
    "print(\"\\n\\tEl resultado de la intersección de A y B es \\n\")\n",
    "\n",
    "x = range(0,3)\n",
    "\n",
    "pyplot.plot(x, [A(i) for i in x])\n",
    "pyplot.plot(x, [B(i) for i in x])\n",
    "\n",
    "pyplot.xlim(0, 1)\n",
    "pyplot.ylim(0, 1)\n",
    "\n",
    "\n",
    "pyplot.show()"
   ]
  },
  {
   "cell_type": "markdown",
   "metadata": {},
   "source": [
    "### Anexo C\n",
    "\n",
    "Se tiene que $A = \\{ \\frac{a_1}{x_1}+\\frac{a_2}{x_2}+...+\\frac{a_n}{x_n} \\}$ y $B= \\{ \\frac{b_1}{x_1}+\\frac{b_2}{x_2}+...+\\frac{b_n}{x_n} \\}$\n",
    "\n",
    "Y sus complementos:\n",
    "\n",
    "$\n",
    "    A^{c} = 1 - A(x), \\forall x \\in [1,n]\\\\\n",
    "    A^{c} = \\{ \\frac{1 - a_1}{x_1} + \\frac{1-a_2}{x_2} + ... + \\frac{1-a_n}{x_n} \\}\\\\\n",
    "    B^{c} = 1 - B(x), \\forall x \\in [1,n]\\\\\n",
    "    B^{c} = \\{ \\frac{1 - b_1}{x_1} + \\frac{1-b_2}{x_2} + ... + \\frac{1-b_n}{x_n} \\}\\\\\n",
    "$\n",
    "\n",
    "### Anexo D\n",
    "\n",
    "Recordando que el producto algebráico de dos conjuntos difusos A y B se define como: $(AB)(x) = A(x).B(x)$ se tiene que\n",
    "\n",
    "$\n",
    "    (AB)(x) = \\{ \\frac{a_1 . b_1}{x_1} + \\frac{a_2 . b_2}{x_2} + ... + \\frac{a_n . b_n}{x_n} \\}\n",
    "$"
   ]
  },
  {
   "cell_type": "markdown",
   "metadata": {},
   "source": [
    "---\n",
    "5. Sean $A:X\\to [0,1]$ y $B:X\\to[0,1]$ dos conjuntos difusos. Demostrar que $(A\\cap B)^c=A^c\\cup B^c$."
   ]
  },
  {
   "cell_type": "markdown",
   "metadata": {},
   "source": [
    "Como A y B son dos conjuntos difusos de tal forma que\n",
    "$A:X \\longrightarrow [0,1]$ y $B:X \\longrightarrow [0,1]$ tenemos que:\n",
    "$\\newline$\n",
    "Si $A(x) \\cap B(x)$ es un conjunto difuso su complemento es: $ (A \\cap B)^{c}(x) = 1-(A \\cap B)(x) $, y $\\\\$\n",
    "Ahora, como la intersección $(A \\cap B)(x)$ es igual a $min${$A(x)$,$B(x)$}\n",
    "$\\newline$\n",
    "Tendremos que:\n",
    "\n",
    "$\n",
    "    \\therefore\n",
    "    (A \\cap B)^{c}(x)=1-min\\{A(x),B(x)\\}...\\alpha\n",
    "$\n",
    "\n",
    "Por otro lado, trataremos de modificar la forma de la expresión de la derecha mediante:\n",
    "\n",
    "$\n",
    "    A^{c}(x) = 1 - A(x)\\\\\n",
    "    B^{c}(x) = 1 - B(x)\\\\\n",
    "    (A^{c} \\cup B^{c})(x) = (1 - A(x)) \\cup (1 - B(x))\\\\\n",
    "$\n",
    "\n",
    "Donde $(1-A(x))\\cup (1-B(x))$ es igual a $max\\{(1-A(x)),(1-B(x))\\}$\n",
    "\n",
    "$\\therefore (A^{c} \\cup B^{c})(x) = max\\{(1-A(x)),(1-B(x))\\}...\\gamma$\n",
    "\n",
    "Relacionemos entonces los valores de los grados de memebresía de cada uno de los términos descriptos anteriormente.\n",
    "\n",
    "### ¿Qué sucede cuando A(x) = B(x)?\n",
    "Analizaremos la situación en la proposición $\\alpha$\n",
    "\n",
    "Como $A(x)=B(x)$ el mínimo $min${$A(x)$,$B(x)$} podría ser tanto $A(x)$ como $B(x)$.\n",
    "\n",
    "Elegiremos como el mínimo $A(x)$ (la selección es completamente arbitraria)\n",
    "\n",
    "Con esto, concluimos de $\\alpha$ que:\n",
    "\n",
    "$\n",
    "    (A \\cap B)^{c}(x) = 1 - min\\{A(x),B(x)\\} = 1 - A(x)\n",
    "$\n",
    "\n",
    "\n",
    "Como $A(x)=B(x)$ el mayor entre $ 1-A(x) $ y $ 1-B(x) $ puede ser elegido de manera arbitraria (elegiremos $ (1-B(x)) $)\n",
    "\n",
    "Por lo tanto de $\\gamma$ podemos decir que:\n",
    "$\n",
    "    (A^{c} \\cup B^{c})(x) = max\\{(1-A(x)),(1-B(x))\\} = 1 - B(x)\n",
    "$\n",
    "\n",
    "Analizando las cantidades obtenidas tenemos que\n",
    "\n",
    "$\n",
    "    1-A(x)\\;relación(puede\\;ser=,>,<,...)\\; 1-B(x)\\\\\n",
    "    Como\\;A(x)=B(x),\\;entonces\\;(1-A(x))=(1-B(x))\n",
    "$\n",
    "\n",
    "$\n",
    "    \\therefore \\;\\alpha = \\gamma\\; , \\forall x\\in X\n",
    "$\n",
    "\n",
    "### ¿Qué sucede cuando A(x) > B(x)?\n",
    "Partiremos por la premisa $\\alpha$ en la cual tenemos que como $A(x) > B(x)$ el minimo es $B(x)$\n",
    "\n",
    "$\n",
    "    (A \\cap B)^{c}(x)=1-min\\{A(x),B(x)\\}=1-B(x)\n",
    "$\n",
    "\n",
    "Luego, en la premisa $\\gamma$ como\n",
    "\n",
    "$\n",
    "    A(x) > B(x)... restando \\; miembro\\;a\\;miembro\\; 1 \\; tenemos \\\\\n",
    "    A(x) - 1 > B(x) - 1... multiplicando\\; (-1) \\; ambos\\;miembros\\\\\n",
    "    1 - A(x) < 1 - B(x)\\\\\n",
    "$\n",
    "\n",
    "Por lo que el máximo entre ellos es $ 1-B(x) $ y entonces:\n",
    "\n",
    "$\n",
    "    (A^{c} \\cup B^{c})(x) = max\\{(1-A(x)),(1-B(x))\\} = 1-B(x)\n",
    "$\n",
    "\n",
    "$ \\therefore \\alpha = \\gamma , \\forall x \\in X $\n",
    "\n",
    "### ¿Qué sucede cuando A(x) < B(x)?\n",
    "En $\\alpha$ tenemos que como $A(x)<B(x)$ el minimo es $A(x)$ y por lo tanto:\n",
    "\n",
    "$\n",
    "    (A \\cap B)^{c}(x)=1-min\\{A(x),B(x)\\}=1-A(x)\n",
    "$\n",
    "\n",
    "Por otro lado, para $\\gamma$ se tendría que:\n",
    "\n",
    "$\n",
    "    A(x)<B(x)\n",
    "    A(x)-1 < B(x)-1\n",
    "    1-A(x) > 1-B(x)\n",
    "    (A^{c} \\cup B^{c})(x) = max\\{(1-A(x)),(1-B(x))\\}=1-A(x)\n",
    "$\n",
    "\n",
    "$\n",
    "    \\therefore \\alpha = \\gamma , \\forall x \\in X\n",
    "$\n",
    "\n",
    "Como para $A(x)=B(x)$, $A(x)>B(x)$ y $A(x)<B(x)$ las premisas $\\alpha$ y $\\gamma$ son siempre iguales podemos concluir que:\n",
    "\n",
    "\n",
    "<center>$(A \\cap B)^{c}(x) = A^{c}(x) \\cup B^{c}(x)$</center> "
   ]
  },
  {
   "cell_type": "markdown",
   "metadata": {},
   "source": [
    "---\n",
    "6. Sea $A:\\mathbb{R}\\to [0,1]$ un conjunto difuso donde $A(x)=-x^2+x$ para $x\\in [0,1]$ y $A(x)=0$ para $x\\notin [0,1]$. La figura de abajo muestra la curva de $A(x)$.\n",
    "    1. ¿Cuál es el soporte (*support*) de $A$?.\n",
    "    2. ¿Cuánto es la altura (*height*) de $A$?.\n",
    "    3. ¿Cuál es el núcleo (*core*) de $A$?.\n",
    "    4. ¿Es $A$ un conjunto difuso convexo? Explicar porque sí o porque no."
   ]
  },
  {
   "cell_type": "code",
   "execution_count": 15,
   "metadata": {
    "jupyter": {
     "source_hidden": true
    }
   },
   "outputs": [
    {
     "data": {
      "image/png": "[encoded data removed]",
      "text/plain": [
       "Graphics object consisting of 1 graphics primitive"
      ]
     },
     "execution_count": 15,
     "metadata": {},
     "output_type": "execute_result"
    }
   ],
   "source": [
    "plot(-x^2+x, [0,1])"
   ]
  },
  {
   "cell_type": "markdown",
   "metadata": {},
   "source": [
    "### Anexo A\n",
    "Como:\n",
    "\n",
    "$\n",
    "    A(x) = \\left \\{ \\begin{matrix} -x^{2}+x & si x\\in [ 0,1] \n",
    "\\\\ 0 & si x\\notin [0,1] \\end{matrix}\\right. \n",
    "$\n",
    "\n",
    "El soporte $supp(A) \\; = \\; ^{0+}A$\n",
    "\n",
    "$\n",
    "    -x^{2} + x > 0 \\\\\n",
    "    x(1-x) > 0, \\; como\\; x\\in[0,1] \\\\\n",
    "    1 - x > 0 ... (por \\; -1 \\; MAM)\\hspace{1cm} \\land \\hspace{1cm} x > 0\\\\\n",
    "    x - 1 < 0 ... (más \\; 1 \\; MAM) \\hspace{1cm} \\land \\hspace{1cm} x > 0\\\\\n",
    "    x < 1 \\hspace{1cm} \\land \\hspace{1cm} x > 0\\\\\n",
    "$\n",
    "\n",
    "<center>\n",
    "    $\n",
    "        \\therefore supp(A) = \\{ A(x) \\}, \\forall x\\in(0,1)\n",
    "    $\n",
    "</center>\n",
    "\n",
    "### Anexo B\n",
    "La altura $h(A)$ se define como $max\\{ A(x) \\}, \\forall x\\in[0,1]$\n",
    "\n",
    "¿Cuál es el máximo elemento del conjunto difuso A siendo que tiene infinitos elementos?\n",
    "\n",
    "Hallaremos entonces el punto máximo de la curva $A(x)=-x^{2}+x$ por medio del criterio de la derivada. Haremos esto debido a que la curva $A(x)$ representa a cada uno de los elementos de A y el máximo elemento de A coincide con el punto máximo de la función de memebresía $A(x)$\n",
    "\n",
    "$\n",
    "    A(x) = -x^{2}+x\\\\\n",
    "    A^{'}(x) = -2x + 1\\\\\n",
    "    A^{''}(x) = -2\\\\\n",
    "$\n",
    "\n",
    "Por el criterio de la segunda derivada se tiene que como $A^{''}(x)<0$ la curva es cóncava hacia abajo, por tanto, tiene un punto máximo relativo.\n",
    "\n",
    "El punto crítico de la curva es: \n",
    "\n",
    "$\n",
    "    A^{'}(x) = 0\\\\\n",
    "    -2x+1=0\\\\\n",
    "    x = 0.5\n",
    "$\n",
    "Luego, los intervalos alrededor del punto crítico son\n",
    "$\n",
    "    A^{'}(x) > 0\\\\\n",
    "    -2x+1>0\\\\\n",
    "    x < 0.5\\\\\n",
    "    \\therefore \\; A^{'}(x)>0 \\;cuando\\; x\\in(0,0.5)\n",
    "$\n",
    "\n",
    "$\n",
    "    A^{'}(x) < 0\\\\\n",
    "    -2x+1<0\\\\\n",
    "    x > 0.5\\\\\n",
    "    \\therefore \\; A^{'}(x)<0 \\;cuando\\; x\\in(0.5,1)\n",
    "$\n",
    "\n",
    "La curva $A(x) = -x^{2}+x$ cóncava hacia abajo posee un máximo relativo sí y solo sí $A^{'}(x)>0,\\forall x\\in(0,0.5) \\land A^{'}(x)<0,\\forall x\\in(0.5,1)$\n",
    "\n",
    "Por lo tanto, la curva posee un máximo relativo en $x=0.5$ y la función de membresía retorna en ese punto un valor igual a $0.25$. \n",
    "\n",
    "<center>\n",
    "    $\n",
    "        \\therefore h(A) = 0.25\n",
    "    $\n",
    "</center>\n",
    "\n",
    "### Anexo C\n",
    "El núcleo de un conjunto difuso consiste en todos sus elementos con grado de membresía igual a 1\n",
    "\n",
    "$\n",
    "    -x^{2}+x = 1\\\\\n",
    "    x^{2} - x + 1 = 0\\\\\n",
    "$\n",
    "\n",
    "La ecuación cuadrática no tiene solución en los reales, ya que $\\sqrt{(-1)^{2} -4*1*1}$ no está definida\n",
    "\n",
    "<center>\n",
    "    $\n",
    "        \\therefore core(A)=\\emptyset\n",
    "    $\n",
    "</center>\n",
    "\n",
    "### Anexo D\n",
    "Un conjunto difuso es convexo sí y solo sí:\n",
    "\n",
    "$\n",
    "    A[\\varepsilon x_1 + (1-\\varepsilon)x_2] \\geq min\\{ A(x_1), A(x_2) \\} \\\\\n",
    "    \\forall x_1,x_2 \\in X \\land \\varepsilon \\in[0,1]\n",
    "$\n",
    "\n",
    "En pocas palabras, que cualquier grado de membresía sea mayor o igual al $min\\{ A(x_1), A(x_2) \\}$\n",
    "\n",
    "Optaremos por tomar $x_1 = 0 \\land x_2 = 1$ para cubrir todo el ancho de la curva.\n",
    "\n",
    "$\n",
    "    A(x_1 = 0) = 0\\\\\n",
    "    A(x_2 = 1) = 0\\\\\n",
    "$\n",
    "\n",
    "En el anexo B encontramos que:\n",
    "\n",
    "$A(x)$ es creciente en $(0,0.5) \\Longrightarrow (A(0),A(0.5))=(0,0.25)$ \n",
    "\n",
    "$A(x)$ es decreciente en $(0.5,1) \\Longrightarrow (A(0.5),A(1))=(0.25,0)$\n",
    "\n",
    "Con esto, encontramos que los valores de membresía son siempre mayores o iguales(en los extremos) al $min(A(0) = 0,A(1) = 0)$\n",
    "\n",
    "<center>\n",
    "    $\n",
    "        \\therefore A \\;es\\;convexo\\;pero\\;no\\;fuertemente\\;convexo\n",
    "    $\n",
    "</center>"
   ]
  },
  {
   "cell_type": "markdown",
   "metadata": {},
   "source": [
    "---\n",
    "7. Da un ejemplo concreto de un conjunto difuso que no es convexo. Luego da una explicación de porque no es convexo."
   ]
  },
  {
   "cell_type": "markdown",
   "metadata": {},
   "source": [
    "Sea $A:\\mathbb{R}\\to [0,1]$ un conjunto difuso donde $A(x)=(x-1)^2$ para $x\\in [0,1]$ y $A(x)=0$ para $x\\notin [0,1]$. La figura de abajo muestra la curva de $A(x)$."
   ]
  },
  {
   "cell_type": "code",
   "execution_count": 65,
   "metadata": {
    "scrolled": true
   },
   "outputs": [
    {
     "data": {
      "image/png": "[encoded data removed]",
      "text/plain": [
       "<Figure size 432x288 with 1 Axes>"
      ]
     },
     "metadata": {
      "needs_background": "light"
     },
     "output_type": "display_data"
    }
   ],
   "source": [
    "from matplotlib import pyplot\n",
    "import math as m\n",
    "import numpy as np\n",
    "\n",
    "def A(x):\n",
    "    return (2*x-1)**2\n",
    "\n",
    "x = np.linspace(0,1)\n",
    "\n",
    "pyplot.plot(x, [A(i) for i in x])\n",
    "\n",
    "pyplot.xlim(0, 1)\n",
    "pyplot.ylim(0, 1)\n",
    "\n",
    "pyplot.show()"
   ]
  },
  {
   "cell_type": "markdown",
   "metadata": {},
   "source": [
    "Podemos ver claramente que en los extremos tenemos que la función de membresía arroja valores iguales a 1 por lo que el mínimo de los extremos es igual a 1.\n",
    "\n",
    "Pero, para cualquier valor entre 0 y 1 de x tenemos valores siempre menores o iguales (en los extremos) que aquel mínimo. Por lo tanto podemos concluir que este conjunto difuso no es convexo ya que no se cumple que cualquier valor intermedio de la función de membresía es mayor o igual al mínimo valor arrojado por los extremos.  "
   ]
  },
  {
   "cell_type": "markdown",
   "metadata": {},
   "source": [
    "---\n",
    "8. Da un contraejemplo de porque no se cumple la propiedad ${}^\\alpha A \\subseteq {}^{\\alpha+}A$."
   ]
  },
  {
   "cell_type": "markdown",
   "metadata": {},
   "source": [
    "Tengamos en cuenta que un $\\alpha$-cut $\\;\\;^{\\alpha}A \\; = \\; \\{ x\\mid(x\\in X) \\land (A(x) \\geq \\alpha) \\}$ y,\n",
    "\n",
    "$ \\hspace{6cm} ^{\\alpha+}A \\; = \\; \\{ x\\mid(x\\in X) \\land (A(x) > \\alpha) \\}$\n",
    "\n",
    "Supongamos entonces que $A$ es un conjunto que tiene por elementos a $a_1,a_2,a_3,...,a_n$ y a su vez $a_1 < a_2 < a_3 < ... < a_n$\n",
    "\n",
    "Obs.: estas suposiciones fueron hechas simplemente para una mayor simplicidad.\n",
    "\n",
    "Un corte $a_k,\\forall k\\in [1,n]$ , es decir , $^{a_k}A = \\{a_k,a_{k+1},a_{k+2},...,a_n\\}$ (empezamos por k en adelante ya que los elementos se encuentran ordenados)\n",
    "\n",
    "En contrapartida,si queremos encontrar el strong $\\alpha$-cut tendremos que:\n",
    "\n",
    "$\n",
    "    \\forall k \\in [1,n] \\;\\;:\\;\\; ^{a_k +}A = \\{ a_{k+1},a_{k+2},a_{k+3},...,a_n \\}\n",
    "$\n",
    "\n",
    "Si comparamos $^{a_k}A$ con $^{a_k +}A$ tendremos que todos los elementos se repiten excepto $a_k$, el cual solo pertenece al corte $^{a_k}A$.\n",
    "\n",
    "De forma más simple, imaginemos que $^{a_k}A\\;$ y $\\;^{a_k +}A$ representamos por un diagrama de Venn en donde:\n",
    "\n",
    "$\n",
    "    ^{a_k}A \\equiv A\\\\\n",
    "    ^{a_k +}A \\equiv B\\\\\n",
    "$"
   ]
  },
  {
   "cell_type": "code",
   "execution_count": 1,
   "metadata": {},
   "outputs": [
    {
     "data": {
      "image/png": "[encoded data removed]",
      "text/plain": [
       "<Figure size 432x288 with 1 Axes>"
      ]
     },
     "metadata": {},
     "output_type": "display_data"
    }
   ],
   "source": [
    "from matplotlib import pyplot as plt\n",
    "from matplotlib_venn import venn2\n",
    "diagram = venn2((3, 3, 3))\n",
    "diagram.get_label_by_id(\"11\").set_text(\"a_k+1,a_k+2,...,a_n\")\n",
    "diagram.get_label_by_id(\"01\").set_text(\"vacio\")\n",
    "diagram.get_label_by_id(\"10\").set_text(\"a_k\")\n",
    "plt.show()"
   ]
  },
  {
   "cell_type": "code",
   "execution_count": 2,
   "metadata": {},
   "outputs": [
    {
     "data": {
      "image/png": "[encoded data removed]",
      "text/plain": [
       "<Figure size 432x288 with 1 Axes>"
      ]
     },
     "metadata": {},
     "output_type": "display_data"
    }
   ],
   "source": [
    "from matplotlib import pyplot as plt\n",
    "from matplotlib_venn import venn2\n",
    "diagram = venn2((6,0,4))\n",
    "diagram.get_label_by_id(\"11\").set_text(\"a_k+1,a_k+2,...,a_n\")\n",
    "diagram.get_label_by_id(\"10\").set_text(\"{a_k + B}\")"
   ]
  },
  {
   "cell_type": "markdown",
   "metadata": {},
   "source": [
    "<center>\n",
    "$\n",
    "    \\therefore B \\subseteq A \\; \\Longrightarrow \\; ^{a_k +}A \\subseteq \\; ^{a_k}A\n",
    "$\n",
    "</center>\n",
    "\n",
    "Por ello, no se cumple que <center> $^{a}A \\subseteq \\; ^{a +}A$ </center>"
   ]
  },
  {
   "cell_type": "markdown",
   "metadata": {},
   "source": [
    "---\n",
    "9. Demuestra que la operación binaria $a*b=\\max(0,a+b-1)$ es una norma triangular."
   ]
  },
  {
   "cell_type": "markdown",
   "metadata": {},
   "source": [
    "Para que una operación binaria $*:[0,1]x[0,1]\\Longrightarrow [0,1]$ sea una norma-T $\\forall a,b,c \\in [0,1]$ debe cumplirse:\n",
    "\n",
    "1. Condición de Frontera: $a*1=a \\land a*0=0$\n",
    "2. Condición de monotonía: $b\\leq c \\;\\Longrightarrow\\;a*b\\leq a*c$\n",
    "3. Conmutatividad: $a*b=b*a$\n",
    "4. Asociatividad: $a*(b*c)=(a*b)*c$\n",
    "\n",
    "### <center>Anexo 1</center>\n",
    "\n",
    "Como la operación binaria $a*b$ está definida como $max(0,a+b-1)$\n",
    "\n",
    "Para un valor arbitrario de $a$ y $b=1$ se tiene que:\n",
    "\n",
    "$\n",
    "    a*b=a*1=max(0,a+(1)-1)=max(0,a)=a\\\\\n",
    "    \\therefore a*1=a\n",
    "$\n",
    "\n",
    "Por otro lado, para $a$ aleatorio y $b=0$ se tiene que:\n",
    "\n",
    "$\n",
    "    a*b=a*0=max(0,a+(0)-1)=max(0,a-1)\\\\\n",
    "$\n",
    "\n",
    "Como $a\\in[0,1]$, pueden ocurrir dos escenarios:\n",
    "\n",
    "$\n",
    "    a_{max} = 1\\\\\n",
    "    max(0,a_{max}-1)\n",
    "$\n",
    "\n",
    "$\n",
    "    a_{min} = 0\\\\\n",
    "    max(0,a_{min}-1)\n",
    "$\n",
    "\n",
    "Generalizando, $\\forall(a-1)\\in[-1,0] \\Longrightarrow max(0,(a-1))=0$\n",
    "\n",
    "<center>\n",
    "    Por lo tanto, se cumple la condición de frontera.\n",
    "</center>\n",
    "\n",
    "### <center>Anexo 2</center>\n",
    "\n",
    "Por hipótesis tenemos que: $ a*b \\leq a*c $\n",
    "\n",
    "Tenemos entonces que: $ max(0,a+b-1) \\leq max(0,a+c-1) $\n",
    "\n",
    "Podemos resumir esto en la siguiente relación: $ a+b-1 \\leq a+c-1 $\n",
    "\n",
    "Restando miembro a miembro $ a-1 $\n",
    "\n",
    "<center> \n",
    "    $ \\therefore b \\leq a $\n",
    "</center>\n",
    "\n",
    "### <center>Anexo 3</center>\n",
    "\n",
    "La operación binaria $a*b$ está definida como $max(0,a+b-1)$\n",
    "\n",
    "Y la operación binaria $b*a$ está definida como $max(0,b+a-1)$\n",
    "\n",
    "Como $a$ y $b$ son números que se encuentran en el intervalo $[0,1]$, es decir, $\\forall a,b\\in \\mathbb R : a,b\\in[0,1]$\n",
    "\n",
    "Entonces podemos valernos de la ley conmutativa de la suma de números reales, por la cual tendremos que: $a+b=b+a$\n",
    "\n",
    "Por lo tanto tendremos que: $max(0,a+b-1)$ es igual a $max(0,b+a-1)$\n",
    "\n",
    "<center>Así, demostramos que la propiedad conmutativa es válida para la operación binaria *</center>\n",
    "\n",
    "### <center>Anexo 4</center>\n",
    "\n",
    "Para poder demostrar la propiedad de asociatividad de la operación binaria * , comenzaremos analizando el lado izquierdo.\n",
    "\n",
    "$\n",
    "    a*(b*c) = max(0,a + (b*c) - 1) = max(0,a + max(0,b+c-1) - 1)\\\\\n",
    "    b\\in[0,1] + c\\in[0,1] \\Longrightarrow (b+c)\\in [0,2] \\Longrightarrow (b+c-1)\\in[-1,1]\\\\\n",
    "    si\\;0>(b+c-1) \\Longrightarrow max(0,b+c-1) = 0 \\Longrightarrow max(0,a+0-1)=0\\\\\n",
    "    si\\;(b+c-1)>0 \\Longrightarrow max(0,b+c-1) = b+c-1 \\Longrightarrow max(0,a+(b+c-1)-1) \\Longrightarrow max(0,a+b+c-2)\\\\\n",
    "$\n",
    "\n",
    "Operando el lado derecho tenemos que:\n",
    "\n",
    "$\n",
    "    (a*b)*c = max(0, (a*b) + c - 1) = max(0, max(0, a+b-1) + c - 1)\\\\\n",
    "    si\\;0>(a+b-1) \\Longrightarrow max(0,0+c-1) = max(0,c-1) = 0\\\\\n",
    "    si\\;(a+b-1)>0 \\Longrightarrow max(0,(a+b-1)+c-1) = max(0,a+b+c-2)\\\\\n",
    "$\n",
    "\n",
    "<center>Así, demostramos que la propiedad asociativa es válida para la operación binaria *</center>"
   ]
  },
  {
   "cell_type": "markdown",
   "metadata": {},
   "source": [
    "---\n",
    "10. Sea $f:\\mathbb{R}\\to \\mathbb{R}$ una función definido como $f(x)=x^2$, y sea $A$ el conjunto difuso definido en el ítem 6 de este ejercitario.\n",
    "    1. Escribe $f(A)$ utilizando la notación de Zadeh.\n",
    "    2. Dibuja la curva del grado de $f(A)$.\n",
    "    3. Explica si $f(A)$ es un conjunto difuso convexo o no."
   ]
  },
  {
   "cell_type": "markdown",
   "metadata": {},
   "source": []
  }
 ],
 "metadata": {
  "kernelspec": {
   "display_name": "Python 3",
   "language": "python",
   "name": "python3"
  },
  "language_info": {
   "codemirror_mode": {
    "name": "ipython",
    "version": 3
   },
   "file_extension": ".py",
   "mimetype": "text/x-python",
   "name": "python",
   "nbconvert_exporter": "python",
   "pygments_lexer": "ipython3",
   "version": "3.8.5"
  }
 },
 "nbformat": 4,
 "nbformat_minor": 4
}
